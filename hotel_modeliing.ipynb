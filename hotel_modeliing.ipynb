{
 "cells": [
  {
   "cell_type": "code",
   "execution_count": 92,
   "metadata": {},
   "outputs": [],
   "source": [
    "import pandas as pd\n",
    "import numpy as np\n",
    "import seaborn as sns\n",
    "import matplotlib.pyplot as plt"
   ]
  },
  {
   "cell_type": "code",
   "execution_count": 146,
   "metadata": {},
   "outputs": [],
   "source": [
    "dataset=pd.read_csv(r\"data_hotel.csv\")"
   ]
  },
  {
   "cell_type": "code",
   "execution_count": 147,
   "metadata": {},
   "outputs": [
    {
     "data": {
      "text/html": [
       "<div>\n",
       "<style scoped>\n",
       "    .dataframe tbody tr th:only-of-type {\n",
       "        vertical-align: middle;\n",
       "    }\n",
       "\n",
       "    .dataframe tbody tr th {\n",
       "        vertical-align: top;\n",
       "    }\n",
       "\n",
       "    .dataframe thead th {\n",
       "        text-align: right;\n",
       "    }\n",
       "</style>\n",
       "<table border=\"1\" class=\"dataframe\">\n",
       "  <thead>\n",
       "    <tr style=\"text-align: right;\">\n",
       "      <th></th>\n",
       "      <th>Unnamed: 0</th>\n",
       "      <th>name</th>\n",
       "      <th>city</th>\n",
       "      <th>Check_in_date</th>\n",
       "      <th>Check_out_date</th>\n",
       "      <th>Rating</th>\n",
       "      <th>Review</th>\n",
       "      <th>Distance_to_city_center(km)</th>\n",
       "      <th>Distance_to_Airpot(km)</th>\n",
       "      <th>pool</th>\n",
       "      <th>...</th>\n",
       "      <th>free_parking</th>\n",
       "      <th>bathtub</th>\n",
       "      <th>restuarant</th>\n",
       "      <th>Airport_transfer</th>\n",
       "      <th>Bar</th>\n",
       "      <th>Kitchen</th>\n",
       "      <th>Connecting_rooms_available</th>\n",
       "      <th>Internet_access</th>\n",
       "      <th>Pet_friendly</th>\n",
       "      <th>PRICE</th>\n",
       "    </tr>\n",
       "  </thead>\n",
       "  <tbody>\n",
       "    <tr>\n",
       "      <th>0</th>\n",
       "      <td>0</td>\n",
       "      <td>The Park Hyderabad</td>\n",
       "      <td>Hyderabad</td>\n",
       "      <td>12-02-2021</td>\n",
       "      <td>14-02-2021</td>\n",
       "      <td>NaN</td>\n",
       "      <td>NaN</td>\n",
       "      <td>4.0</td>\n",
       "      <td>20.0</td>\n",
       "      <td>yes</td>\n",
       "      <td>...</td>\n",
       "      <td>yes</td>\n",
       "      <td>no</td>\n",
       "      <td>yes</td>\n",
       "      <td>yes</td>\n",
       "      <td>no</td>\n",
       "      <td>no</td>\n",
       "      <td>no</td>\n",
       "      <td>no</td>\n",
       "      <td>no</td>\n",
       "      <td>5040</td>\n",
       "    </tr>\n",
       "    <tr>\n",
       "      <th>1</th>\n",
       "      <td>1</td>\n",
       "      <td>The Westin Hyderabad Mindspace</td>\n",
       "      <td>Hyderabad</td>\n",
       "      <td>12-02-2021</td>\n",
       "      <td>14-02-2021</td>\n",
       "      <td>NaN</td>\n",
       "      <td>NaN</td>\n",
       "      <td>9.9</td>\n",
       "      <td>22.0</td>\n",
       "      <td>yes</td>\n",
       "      <td>...</td>\n",
       "      <td>yes</td>\n",
       "      <td>no</td>\n",
       "      <td>yes</td>\n",
       "      <td>yes</td>\n",
       "      <td>no</td>\n",
       "      <td>no</td>\n",
       "      <td>no</td>\n",
       "      <td>no</td>\n",
       "      <td>no</td>\n",
       "      <td>7800</td>\n",
       "    </tr>\n",
       "    <tr>\n",
       "      <th>2</th>\n",
       "      <td>2</td>\n",
       "      <td>Courtyard by Marriott Hyderabad</td>\n",
       "      <td>Hyderabad</td>\n",
       "      <td>12-02-2021</td>\n",
       "      <td>14-02-2021</td>\n",
       "      <td>NaN</td>\n",
       "      <td>NaN</td>\n",
       "      <td>4.7</td>\n",
       "      <td>21.0</td>\n",
       "      <td>yes</td>\n",
       "      <td>...</td>\n",
       "      <td>yes</td>\n",
       "      <td>no</td>\n",
       "      <td>yes</td>\n",
       "      <td>yes</td>\n",
       "      <td>no</td>\n",
       "      <td>no</td>\n",
       "      <td>no</td>\n",
       "      <td>no</td>\n",
       "      <td>no</td>\n",
       "      <td>6700</td>\n",
       "    </tr>\n",
       "    <tr>\n",
       "      <th>3</th>\n",
       "      <td>3</td>\n",
       "      <td>Courtyard by Marriott Hyderabad</td>\n",
       "      <td>Hyderabad</td>\n",
       "      <td>12-02-2021</td>\n",
       "      <td>14-02-2021</td>\n",
       "      <td>NaN</td>\n",
       "      <td>NaN</td>\n",
       "      <td>4.7</td>\n",
       "      <td>21.0</td>\n",
       "      <td>yes</td>\n",
       "      <td>...</td>\n",
       "      <td>yes</td>\n",
       "      <td>no</td>\n",
       "      <td>yes</td>\n",
       "      <td>yes</td>\n",
       "      <td>no</td>\n",
       "      <td>no</td>\n",
       "      <td>no</td>\n",
       "      <td>no</td>\n",
       "      <td>no</td>\n",
       "      <td>6700</td>\n",
       "    </tr>\n",
       "    <tr>\n",
       "      <th>4</th>\n",
       "      <td>4</td>\n",
       "      <td>Radisson Blu Plaza Hotel Hyderabad Banjara Hills</td>\n",
       "      <td>Hyderabad</td>\n",
       "      <td>12-02-2021</td>\n",
       "      <td>14-02-2021</td>\n",
       "      <td>7.6</td>\n",
       "      <td>Good</td>\n",
       "      <td>4.5</td>\n",
       "      <td>20.0</td>\n",
       "      <td>yes</td>\n",
       "      <td>...</td>\n",
       "      <td>yes</td>\n",
       "      <td>no</td>\n",
       "      <td>yes</td>\n",
       "      <td>yes</td>\n",
       "      <td>no</td>\n",
       "      <td>no</td>\n",
       "      <td>no</td>\n",
       "      <td>no</td>\n",
       "      <td>no</td>\n",
       "      <td>6375</td>\n",
       "    </tr>\n",
       "  </tbody>\n",
       "</table>\n",
       "<p>5 rows × 22 columns</p>\n",
       "</div>"
      ],
      "text/plain": [
       "   Unnamed: 0                                              name       city  \\\n",
       "0           0                                The Park Hyderabad  Hyderabad   \n",
       "1           1                    The Westin Hyderabad Mindspace  Hyderabad   \n",
       "2           2                   Courtyard by Marriott Hyderabad  Hyderabad   \n",
       "3           3                   Courtyard by Marriott Hyderabad  Hyderabad   \n",
       "4           4  Radisson Blu Plaza Hotel Hyderabad Banjara Hills  Hyderabad   \n",
       "\n",
       "  Check_in_date Check_out_date  Rating Review  Distance_to_city_center(km)  \\\n",
       "0    12-02-2021     14-02-2021     NaN    NaN                          4.0   \n",
       "1    12-02-2021     14-02-2021     NaN    NaN                          9.9   \n",
       "2    12-02-2021     14-02-2021     NaN    NaN                          4.7   \n",
       "3    12-02-2021     14-02-2021     NaN    NaN                          4.7   \n",
       "4    12-02-2021     14-02-2021     7.6   Good                          4.5   \n",
       "\n",
       "   Distance_to_Airpot(km) pool  ... free_parking bathtub restuarant  \\\n",
       "0                    20.0  yes  ...          yes      no        yes   \n",
       "1                    22.0  yes  ...          yes      no        yes   \n",
       "2                    21.0  yes  ...          yes      no        yes   \n",
       "3                    21.0  yes  ...          yes      no        yes   \n",
       "4                    20.0  yes  ...          yes      no        yes   \n",
       "\n",
       "  Airport_transfer Bar Kitchen Connecting_rooms_available Internet_access  \\\n",
       "0              yes  no      no                         no              no   \n",
       "1              yes  no      no                         no              no   \n",
       "2              yes  no      no                         no              no   \n",
       "3              yes  no      no                         no              no   \n",
       "4              yes  no      no                         no              no   \n",
       "\n",
       "  Pet_friendly PRICE  \n",
       "0           no  5040  \n",
       "1           no  7800  \n",
       "2           no  6700  \n",
       "3           no  6700  \n",
       "4           no  6375  \n",
       "\n",
       "[5 rows x 22 columns]"
      ]
     },
     "execution_count": 147,
     "metadata": {},
     "output_type": "execute_result"
    }
   ],
   "source": [
    "dataset.head(5)"
   ]
  },
  {
   "cell_type": "code",
   "execution_count": 148,
   "metadata": {},
   "outputs": [],
   "source": [
    "dataset.drop([\"Unnamed: 0\",\"Rating\",\"Review\"],axis=1,inplace=True)"
   ]
  },
  {
   "cell_type": "code",
   "execution_count": null,
   "metadata": {},
   "outputs": [],
   "source": []
  },
  {
   "cell_type": "code",
   "execution_count": 149,
   "metadata": {},
   "outputs": [
    {
     "data": {
      "text/plain": [
       "name                           False\n",
       "city                           False\n",
       "Check_in_date                  False\n",
       "Check_out_date                 False\n",
       "Distance_to_city_center(km)     True\n",
       "Distance_to_Airpot(km)          True\n",
       "pool                           False\n",
       "gym                            False\n",
       "spa                            False\n",
       "free_parking                   False\n",
       "bathtub                        False\n",
       "restuarant                     False\n",
       "Airport_transfer               False\n",
       "Bar                            False\n",
       "Kitchen                        False\n",
       "Connecting_rooms_available     False\n",
       "Internet_access                False\n",
       "Pet_friendly                   False\n",
       "PRICE                          False\n",
       "dtype: bool"
      ]
     },
     "execution_count": 149,
     "metadata": {},
     "output_type": "execute_result"
    }
   ],
   "source": [
    "dataset.isnull().any()"
   ]
  },
  {
   "cell_type": "code",
   "execution_count": 150,
   "metadata": {},
   "outputs": [
    {
     "data": {
      "text/plain": [
       "name                            object\n",
       "city                            object\n",
       "Check_in_date                   object\n",
       "Check_out_date                  object\n",
       "Distance_to_city_center(km)    float64\n",
       "Distance_to_Airpot(km)         float64\n",
       "pool                            object\n",
       "gym                             object\n",
       "spa                             object\n",
       "free_parking                    object\n",
       "bathtub                         object\n",
       "restuarant                      object\n",
       "Airport_transfer                object\n",
       "Bar                             object\n",
       "Kitchen                         object\n",
       "Connecting_rooms_available      object\n",
       "Internet_access                 object\n",
       "Pet_friendly                    object\n",
       "PRICE                            int64\n",
       "dtype: object"
      ]
     },
     "execution_count": 150,
     "metadata": {},
     "output_type": "execute_result"
    }
   ],
   "source": [
    "dataset.dtypes"
   ]
  },
  {
   "cell_type": "code",
   "execution_count": 151,
   "metadata": {},
   "outputs": [],
   "source": [
    "\n",
    "\n",
    "dataset[\"Check_in_date\"]=pd.to_datetime(dataset[\"Check_in_date\"])\n",
    "\n",
    "dataset[\"check_in_month\"]=dataset[\"Check_in_date\"].dt.month\n",
    "\n",
    "dataset[\"check_in_year\"]=dataset[\"Check_in_date\"].dt.year\n",
    "\n",
    "dataset[\"check_in_day\"]=dataset[\"Check_in_date\"].dt.day\n",
    "\n",
    "dataset[\"Check_out_date\"]=pd.to_datetime(dataset[\"Check_out_date\"])\n",
    "\n",
    "dataset[\"check_out_year\"]=dataset[\"Check_out_date\"].dt.year\n",
    "\n",
    "dataset[\"check_out_month\"]=dataset[\"Check_out_date\"].dt.month\n",
    "\n",
    "dataset[\"check_out_day\"]=dataset[\"Check_out_date\"].dt.day\n",
    "\n"
   ]
  },
  {
   "cell_type": "code",
   "execution_count": 152,
   "metadata": {},
   "outputs": [
    {
     "data": {
      "text/plain": [
       "Courtyard by Marriott Mumbai International Airport    9\n",
       "Best Western Ashoka                                   8\n",
       "Courtyard by Marriott Hyderabad                       7\n",
       "Fairfield by Marriott Kolkata                         7\n",
       "Highland Choj                                         7\n",
       "                                                     ..\n",
       "OYO 28629 Hotel Crosswind                             1\n",
       "OYO 28416 Ananya Royals                               1\n",
       "Altair                                                1\n",
       "Treebo Trend Regency                                  1\n",
       "Marrina Hotel                                         1\n",
       "Name: name, Length: 1983, dtype: int64"
      ]
     },
     "execution_count": 152,
     "metadata": {},
     "output_type": "execute_result"
    }
   ],
   "source": [
    "dataset[\"name\"].value_counts()"
   ]
  },
  {
   "cell_type": "code",
   "execution_count": 153,
   "metadata": {},
   "outputs": [
    {
     "data": {
      "text/plain": [
       "10000    67\n",
       "15000    66\n",
       "6000     64\n",
       "12000    47\n",
       "9000     40\n",
       "         ..\n",
       "5967      1\n",
       "5979      1\n",
       "36700     1\n",
       "10077     1\n",
       "4094      1\n",
       "Name: PRICE, Length: 2649, dtype: int64"
      ]
     },
     "execution_count": 153,
     "metadata": {},
     "output_type": "execute_result"
    }
   ],
   "source": [
    "dataset[\"PRICE\"].value_counts()"
   ]
  },
  {
   "cell_type": "code",
   "execution_count": 154,
   "metadata": {},
   "outputs": [],
   "source": [
    "dataset.drop([\"Check_in_date\",\"Check_out_date\"],axis=1,inplace=True)"
   ]
  },
  {
   "cell_type": "code",
   "execution_count": 155,
   "metadata": {},
   "outputs": [
    {
     "data": {
      "text/plain": [
       "Courtyard by Marriott Mumbai International Airport    9\n",
       "Best Western Ashoka                                   8\n",
       "Courtyard by Marriott Hyderabad                       7\n",
       "Fairfield by Marriott Kolkata                         7\n",
       "Highland Choj                                         7\n",
       "                                                     ..\n",
       "OYO 28629 Hotel Crosswind                             1\n",
       "OYO 28416 Ananya Royals                               1\n",
       "Altair                                                1\n",
       "Treebo Trend Regency                                  1\n",
       "Marrina Hotel                                         1\n",
       "Name: name, Length: 1983, dtype: int64"
      ]
     },
     "execution_count": 155,
     "metadata": {},
     "output_type": "execute_result"
    }
   ],
   "source": [
    "dataset[\"name\"].value_counts()"
   ]
  },
  {
   "cell_type": "markdown",
   "metadata": {},
   "source": [
    "# 1. Handle Missing values"
   ]
  },
  {
   "cell_type": "code",
   "execution_count": 156,
   "metadata": {},
   "outputs": [
    {
     "data": {
      "text/plain": [
       "name                            0\n",
       "city                            0\n",
       "Distance_to_city_center(km)    23\n",
       "Distance_to_Airpot(km)         23\n",
       "pool                            0\n",
       "gym                             0\n",
       "spa                             0\n",
       "free_parking                    0\n",
       "bathtub                         0\n",
       "restuarant                      0\n",
       "Airport_transfer                0\n",
       "Bar                             0\n",
       "Kitchen                         0\n",
       "Connecting_rooms_available      0\n",
       "Internet_access                 0\n",
       "Pet_friendly                    0\n",
       "PRICE                           0\n",
       "check_in_month                  0\n",
       "check_in_year                   0\n",
       "check_in_day                    0\n",
       "check_out_year                  0\n",
       "check_out_month                 0\n",
       "check_out_day                   0\n",
       "dtype: int64"
      ]
     },
     "execution_count": 156,
     "metadata": {},
     "output_type": "execute_result"
    }
   ],
   "source": [
    "dataset.isnull().sum()"
   ]
  },
  {
   "cell_type": "code",
   "execution_count": 157,
   "metadata": {},
   "outputs": [],
   "source": [
    "dataset.fillna(dataset.median(),inplace=True)"
   ]
  },
  {
   "cell_type": "code",
   "execution_count": 158,
   "metadata": {},
   "outputs": [
    {
     "data": {
      "text/plain": [
       "name                           False\n",
       "city                           False\n",
       "Distance_to_city_center(km)    False\n",
       "Distance_to_Airpot(km)         False\n",
       "pool                           False\n",
       "gym                            False\n",
       "spa                            False\n",
       "free_parking                   False\n",
       "bathtub                        False\n",
       "restuarant                     False\n",
       "Airport_transfer               False\n",
       "Bar                            False\n",
       "Kitchen                        False\n",
       "Connecting_rooms_available     False\n",
       "Internet_access                False\n",
       "Pet_friendly                   False\n",
       "PRICE                          False\n",
       "check_in_month                 False\n",
       "check_in_year                  False\n",
       "check_in_day                   False\n",
       "check_out_year                 False\n",
       "check_out_month                False\n",
       "check_out_day                  False\n",
       "dtype: bool"
      ]
     },
     "execution_count": 158,
     "metadata": {},
     "output_type": "execute_result"
    }
   ],
   "source": [
    "dataset.isnull().any()"
   ]
  },
  {
   "cell_type": "code",
   "execution_count": null,
   "metadata": {},
   "outputs": [],
   "source": []
  },
  {
   "cell_type": "markdown",
   "metadata": {},
   "source": [
    "# divide data into numerical and categorical type"
   ]
  },
  {
   "cell_type": "code",
   "execution_count": 159,
   "metadata": {},
   "outputs": [],
   "source": [
    "num=[]"
   ]
  },
  {
   "cell_type": "code",
   "execution_count": 160,
   "metadata": {},
   "outputs": [],
   "source": [
    "for col in dataset.columns:\n",
    "    if(dataset[col].dtypes!=\"object\"):\n",
    "          num.append(col)"
   ]
  },
  {
   "cell_type": "code",
   "execution_count": 161,
   "metadata": {},
   "outputs": [],
   "source": [
    "dataset_num=dataset[num]"
   ]
  },
  {
   "cell_type": "code",
   "execution_count": 162,
   "metadata": {},
   "outputs": [],
   "source": [
    "dataset_num=dataset_num[[\"Distance_to_city_center(km)\",\"Distance_to_Airpot(km)\",\"check_in_month\",\"check_in_year\",\"check_in_day\",\"check_out_year\",\"check_out_month\",\"check_out_day\",\"PRICE\"]]"
   ]
  },
  {
   "cell_type": "code",
   "execution_count": 163,
   "metadata": {},
   "outputs": [],
   "source": [
    "cat=[]"
   ]
  },
  {
   "cell_type": "code",
   "execution_count": 164,
   "metadata": {},
   "outputs": [],
   "source": [
    "for col in dataset.columns:\n",
    "    if(dataset[col].dtypes==\"object\"):\n",
    "          cat.append(col)"
   ]
  },
  {
   "cell_type": "code",
   "execution_count": 165,
   "metadata": {},
   "outputs": [],
   "source": [
    "dataset_cat=dataset[cat]"
   ]
  },
  {
   "cell_type": "code",
   "execution_count": 166,
   "metadata": {},
   "outputs": [
    {
     "data": {
      "text/plain": [
       "['name',\n",
       " 'city',\n",
       " 'pool',\n",
       " 'gym',\n",
       " 'spa',\n",
       " 'free_parking',\n",
       " 'bathtub',\n",
       " 'restuarant',\n",
       " 'Airport_transfer',\n",
       " 'Bar',\n",
       " 'Kitchen',\n",
       " 'Connecting_rooms_available',\n",
       " 'Internet_access',\n",
       " 'Pet_friendly']"
      ]
     },
     "execution_count": 166,
     "metadata": {},
     "output_type": "execute_result"
    }
   ],
   "source": [
    "cat"
   ]
  },
  {
   "cell_type": "code",
   "execution_count": 167,
   "metadata": {},
   "outputs": [
    {
     "data": {
      "text/plain": [
       "<matplotlib.axes._subplots.AxesSubplot at 0x2c46b3ffbe0>"
      ]
     },
     "execution_count": 167,
     "metadata": {},
     "output_type": "execute_result"
    },
    {
     "data": {
      "image/png": "[encoded data removed]",
      "text/plain": [
       "<Figure size 432x288 with 1 Axes>"
      ]
     },
     "metadata": {
      "needs_background": "light"
     },
     "output_type": "display_data"
    }
   ],
   "source": [
    "sns.boxplot(dataset_num[\"Distance_to_city_center(km)\"])"
   ]
  },
  {
   "cell_type": "code",
   "execution_count": 168,
   "metadata": {},
   "outputs": [
    {
     "data": {
      "text/plain": [
       "<matplotlib.axes._subplots.AxesSubplot at 0x2c46b455370>"
      ]
     },
     "execution_count": 168,
     "metadata": {},
     "output_type": "execute_result"
    },
    {
     "data": {
      "image/png": "[encoded data removed]",
      "text/plain": [
       "<Figure size 432x288 with 1 Axes>"
      ]
     },
     "metadata": {
      "needs_background": "light"
     },
     "output_type": "display_data"
    }
   ],
   "source": [
    "sns.boxplot(dataset_num[\"Distance_to_Airpot(km)\"])"
   ]
  },
  {
   "cell_type": "code",
   "execution_count": 169,
   "metadata": {},
   "outputs": [
    {
     "data": {
      "text/plain": [
       "<matplotlib.axes._subplots.AxesSubplot at 0x2c46b4bad00>"
      ]
     },
     "execution_count": 169,
     "metadata": {},
     "output_type": "execute_result"
    },
    {
     "data": {
      "image/png": "[encoded data removed]",
      "text/plain": [
       "<Figure size 432x288 with 1 Axes>"
      ]
     },
     "metadata": {
      "needs_background": "light"
     },
     "output_type": "display_data"
    }
   ],
   "source": [
    "sns.boxplot(dataset_num[\"PRICE\"])"
   ]
  },
  {
   "cell_type": "markdown",
   "metadata": {},
   "source": [
    "# Handling Outliers"
   ]
  },
  {
   "cell_type": "code",
   "execution_count": 170,
   "metadata": {},
   "outputs": [
    {
     "name": "stdout",
     "output_type": "stream",
     "text": [
      "======================PRICE======================\n",
      "count 381\n",
      "Percentage 7.1321602396106325\n"
     ]
    }
   ],
   "source": [
    "for col in dataset_num.columns:\n",
    "    q1=dataset_num[col].describe()[\"25%\"]\n",
    "    q3=dataset_num[col].describe()[\"75%\"]\n",
    "    iqr=q3-q1\n",
    "    lb=q1-1.5*iqr\n",
    "    ub=q3+1.5*iqr\n",
    "    count=dataset_num[(dataset_num[col]<lb)  | (dataset_num[col]>ub)].shape[0]\n",
    "    p=count/5342*100\n",
    "if (count>0):\n",
    "            print(\"======================\"+col+\"======================\")\n",
    "            print(\"count\",count)\n",
    "            print(\"Percentage\",p)"
   ]
  },
  {
   "cell_type": "code",
   "execution_count": 171,
   "metadata": {},
   "outputs": [],
   "source": [
    "outliers=dataset_num[(dataset_num[col]<lb)  | (dataset_num[col]>ub)]"
   ]
  },
  {
   "cell_type": "code",
   "execution_count": 172,
   "metadata": {},
   "outputs": [],
   "source": [
    "lb_dict={}.fromkeys(dataset_num[(dataset_num[\"PRICE\"]<lb)][\"PRICE\"],lb)"
   ]
  },
  {
   "cell_type": "code",
   "execution_count": 173,
   "metadata": {},
   "outputs": [],
   "source": [
    "ub_dict={}.fromkeys(dataset_num[(dataset_num[\"PRICE\"]>ub)][\"PRICE\"],ub)"
   ]
  },
  {
   "cell_type": "code",
   "execution_count": 174,
   "metadata": {},
   "outputs": [],
   "source": [
    "lb_dict.update(ub_dict)"
   ]
  },
  {
   "cell_type": "code",
   "execution_count": 175,
   "metadata": {},
   "outputs": [],
   "source": [
    "dataset_num[\"PRICE\"]=dataset_num[\"PRICE\"].replace(lb_dict)"
   ]
  },
  {
   "cell_type": "code",
   "execution_count": 176,
   "metadata": {},
   "outputs": [
    {
     "data": {
      "text/plain": [
       "<matplotlib.axes._subplots.AxesSubplot at 0x2c46b4641f0>"
      ]
     },
     "execution_count": 176,
     "metadata": {},
     "output_type": "execute_result"
    },
    {
     "data": {
      "image/png": "[encoded data removed]",
      "text/plain": [
       "<Figure size 432x288 with 1 Axes>"
      ]
     },
     "metadata": {
      "needs_background": "light"
     },
     "output_type": "display_data"
    }
   ],
   "source": [
    "sns.boxplot(dataset_num[\"PRICE\"])"
   ]
  },
  {
   "cell_type": "code",
   "execution_count": 177,
   "metadata": {},
   "outputs": [],
   "source": [
    "dataset_num.drop([\"check_in_month\",\"check_in_year\",\"check_in_day\",\"check_out_year\",\"check_out_month\",\"check_out_day\"],axis=1,inplace=True)"
   ]
  },
  {
   "cell_type": "code",
   "execution_count": 178,
   "metadata": {},
   "outputs": [
    {
     "data": {
      "text/plain": [
       "<matplotlib.axes._subplots.AxesSubplot at 0x2c46b54bf10>"
      ]
     },
     "execution_count": 178,
     "metadata": {},
     "output_type": "execute_result"
    },
    {
     "data": {
      "image/png": "[encoded data removed]",
      "text/plain": [
       "<Figure size 432x288 with 2 Axes>"
      ]
     },
     "metadata": {
      "needs_background": "light"
     },
     "output_type": "display_data"
    }
   ],
   "source": [
    "sns.heatmap(dataset_num.corr(),annot=True)"
   ]
  },
  {
   "cell_type": "markdown",
   "metadata": {},
   "source": [
    "# Encoding the data\n"
   ]
  },
  {
   "cell_type": "code",
   "execution_count": 179,
   "metadata": {},
   "outputs": [],
   "source": [
    "name_dict=dataset[\"name\"].value_counts().to_dict()"
   ]
  },
  {
   "cell_type": "code",
   "execution_count": 180,
   "metadata": {},
   "outputs": [
    {
     "data": {
      "text/plain": [
       "array(['The Park Hyderabad', 'The Westin Hyderabad Mindspace',\n",
       "       'Courtyard by Marriott Hyderabad', ...,\n",
       "       'WelcomHeritage Mani Mansion', 'Hotel Cosmopolitan Ahmedabad',\n",
       "       'Hotel Aagman'], dtype=object)"
      ]
     },
     "execution_count": 180,
     "metadata": {},
     "output_type": "execute_result"
    }
   ],
   "source": [
    "dataset[\"name\"].unique()"
   ]
  },
  {
   "cell_type": "code",
   "execution_count": 181,
   "metadata": {},
   "outputs": [],
   "source": [
    "dataset[\"name\"]=dataset[\"name\"].replace(name_dict)"
   ]
  },
  {
   "cell_type": "code",
   "execution_count": 182,
   "metadata": {},
   "outputs": [],
   "source": [
    "city_dict=dataset[\"city\"].value_counts().to_dict()"
   ]
  },
  {
   "cell_type": "code",
   "execution_count": 183,
   "metadata": {},
   "outputs": [],
   "source": [
    "dataset[\"city\"]=dataset[\"city\"].replace(city_dict)"
   ]
  },
  {
   "cell_type": "code",
   "execution_count": 184,
   "metadata": {},
   "outputs": [],
   "source": [
    "dataset=pd.get_dummies(dataset, drop_first=True)"
   ]
  },
  {
   "cell_type": "code",
   "execution_count": 185,
   "metadata": {},
   "outputs": [
    {
     "data": {
      "text/html": [
       "<div>\n",
       "<style scoped>\n",
       "    .dataframe tbody tr th:only-of-type {\n",
       "        vertical-align: middle;\n",
       "    }\n",
       "\n",
       "    .dataframe tbody tr th {\n",
       "        vertical-align: top;\n",
       "    }\n",
       "\n",
       "    .dataframe thead th {\n",
       "        text-align: right;\n",
       "    }\n",
       "</style>\n",
       "<table border=\"1\" class=\"dataframe\">\n",
       "  <thead>\n",
       "    <tr style=\"text-align: right;\">\n",
       "      <th></th>\n",
       "      <th>name</th>\n",
       "      <th>city</th>\n",
       "      <th>Distance_to_city_center(km)</th>\n",
       "      <th>Distance_to_Airpot(km)</th>\n",
       "      <th>PRICE</th>\n",
       "      <th>check_in_month</th>\n",
       "      <th>check_in_year</th>\n",
       "      <th>check_in_day</th>\n",
       "      <th>check_out_year</th>\n",
       "      <th>check_out_month</th>\n",
       "      <th>...</th>\n",
       "      <th>spa_yes</th>\n",
       "      <th>free_parking_yes</th>\n",
       "      <th>bathtub_yes</th>\n",
       "      <th>restuarant_yes</th>\n",
       "      <th>Airport_transfer_yes</th>\n",
       "      <th>Bar_yes</th>\n",
       "      <th>Kitchen_yes</th>\n",
       "      <th>Connecting_rooms_available_yes</th>\n",
       "      <th>Internet_access_yes</th>\n",
       "      <th>Pet_friendly_yes</th>\n",
       "    </tr>\n",
       "  </thead>\n",
       "  <tbody>\n",
       "    <tr>\n",
       "      <th>0</th>\n",
       "      <td>3</td>\n",
       "      <td>279</td>\n",
       "      <td>4.0</td>\n",
       "      <td>20.0</td>\n",
       "      <td>5040</td>\n",
       "      <td>12</td>\n",
       "      <td>2021</td>\n",
       "      <td>2</td>\n",
       "      <td>2021</td>\n",
       "      <td>2</td>\n",
       "      <td>...</td>\n",
       "      <td>1</td>\n",
       "      <td>1</td>\n",
       "      <td>0</td>\n",
       "      <td>1</td>\n",
       "      <td>1</td>\n",
       "      <td>0</td>\n",
       "      <td>0</td>\n",
       "      <td>0</td>\n",
       "      <td>0</td>\n",
       "      <td>0</td>\n",
       "    </tr>\n",
       "    <tr>\n",
       "      <th>1</th>\n",
       "      <td>5</td>\n",
       "      <td>279</td>\n",
       "      <td>9.9</td>\n",
       "      <td>22.0</td>\n",
       "      <td>7800</td>\n",
       "      <td>12</td>\n",
       "      <td>2021</td>\n",
       "      <td>2</td>\n",
       "      <td>2021</td>\n",
       "      <td>2</td>\n",
       "      <td>...</td>\n",
       "      <td>1</td>\n",
       "      <td>1</td>\n",
       "      <td>0</td>\n",
       "      <td>1</td>\n",
       "      <td>1</td>\n",
       "      <td>0</td>\n",
       "      <td>0</td>\n",
       "      <td>0</td>\n",
       "      <td>0</td>\n",
       "      <td>0</td>\n",
       "    </tr>\n",
       "    <tr>\n",
       "      <th>2</th>\n",
       "      <td>7</td>\n",
       "      <td>279</td>\n",
       "      <td>4.7</td>\n",
       "      <td>21.0</td>\n",
       "      <td>6700</td>\n",
       "      <td>12</td>\n",
       "      <td>2021</td>\n",
       "      <td>2</td>\n",
       "      <td>2021</td>\n",
       "      <td>2</td>\n",
       "      <td>...</td>\n",
       "      <td>1</td>\n",
       "      <td>1</td>\n",
       "      <td>0</td>\n",
       "      <td>1</td>\n",
       "      <td>1</td>\n",
       "      <td>0</td>\n",
       "      <td>0</td>\n",
       "      <td>0</td>\n",
       "      <td>0</td>\n",
       "      <td>0</td>\n",
       "    </tr>\n",
       "    <tr>\n",
       "      <th>3</th>\n",
       "      <td>7</td>\n",
       "      <td>279</td>\n",
       "      <td>4.7</td>\n",
       "      <td>21.0</td>\n",
       "      <td>6700</td>\n",
       "      <td>12</td>\n",
       "      <td>2021</td>\n",
       "      <td>2</td>\n",
       "      <td>2021</td>\n",
       "      <td>2</td>\n",
       "      <td>...</td>\n",
       "      <td>1</td>\n",
       "      <td>1</td>\n",
       "      <td>0</td>\n",
       "      <td>1</td>\n",
       "      <td>1</td>\n",
       "      <td>0</td>\n",
       "      <td>0</td>\n",
       "      <td>0</td>\n",
       "      <td>0</td>\n",
       "      <td>0</td>\n",
       "    </tr>\n",
       "    <tr>\n",
       "      <th>4</th>\n",
       "      <td>4</td>\n",
       "      <td>279</td>\n",
       "      <td>4.5</td>\n",
       "      <td>20.0</td>\n",
       "      <td>6375</td>\n",
       "      <td>12</td>\n",
       "      <td>2021</td>\n",
       "      <td>2</td>\n",
       "      <td>2021</td>\n",
       "      <td>2</td>\n",
       "      <td>...</td>\n",
       "      <td>1</td>\n",
       "      <td>1</td>\n",
       "      <td>0</td>\n",
       "      <td>1</td>\n",
       "      <td>1</td>\n",
       "      <td>0</td>\n",
       "      <td>0</td>\n",
       "      <td>0</td>\n",
       "      <td>0</td>\n",
       "      <td>0</td>\n",
       "    </tr>\n",
       "    <tr>\n",
       "      <th>...</th>\n",
       "      <td>...</td>\n",
       "      <td>...</td>\n",
       "      <td>...</td>\n",
       "      <td>...</td>\n",
       "      <td>...</td>\n",
       "      <td>...</td>\n",
       "      <td>...</td>\n",
       "      <td>...</td>\n",
       "      <td>...</td>\n",
       "      <td>...</td>\n",
       "      <td>...</td>\n",
       "      <td>...</td>\n",
       "      <td>...</td>\n",
       "      <td>...</td>\n",
       "      <td>...</td>\n",
       "      <td>...</td>\n",
       "      <td>...</td>\n",
       "      <td>...</td>\n",
       "      <td>...</td>\n",
       "      <td>...</td>\n",
       "      <td>...</td>\n",
       "    </tr>\n",
       "    <tr>\n",
       "      <th>5337</th>\n",
       "      <td>2</td>\n",
       "      <td>264</td>\n",
       "      <td>4.9</td>\n",
       "      <td>9.7</td>\n",
       "      <td>46349</td>\n",
       "      <td>12</td>\n",
       "      <td>2021</td>\n",
       "      <td>2</td>\n",
       "      <td>2021</td>\n",
       "      <td>2</td>\n",
       "      <td>...</td>\n",
       "      <td>0</td>\n",
       "      <td>1</td>\n",
       "      <td>1</td>\n",
       "      <td>0</td>\n",
       "      <td>0</td>\n",
       "      <td>0</td>\n",
       "      <td>0</td>\n",
       "      <td>0</td>\n",
       "      <td>0</td>\n",
       "      <td>0</td>\n",
       "    </tr>\n",
       "    <tr>\n",
       "      <th>5338</th>\n",
       "      <td>2</td>\n",
       "      <td>264</td>\n",
       "      <td>1.6</td>\n",
       "      <td>8.0</td>\n",
       "      <td>8793</td>\n",
       "      <td>12</td>\n",
       "      <td>2021</td>\n",
       "      <td>2</td>\n",
       "      <td>2021</td>\n",
       "      <td>2</td>\n",
       "      <td>...</td>\n",
       "      <td>0</td>\n",
       "      <td>0</td>\n",
       "      <td>1</td>\n",
       "      <td>0</td>\n",
       "      <td>0</td>\n",
       "      <td>0</td>\n",
       "      <td>0</td>\n",
       "      <td>0</td>\n",
       "      <td>0</td>\n",
       "      <td>0</td>\n",
       "    </tr>\n",
       "    <tr>\n",
       "      <th>5339</th>\n",
       "      <td>1</td>\n",
       "      <td>264</td>\n",
       "      <td>77.0</td>\n",
       "      <td>77.0</td>\n",
       "      <td>5396</td>\n",
       "      <td>12</td>\n",
       "      <td>2021</td>\n",
       "      <td>2</td>\n",
       "      <td>2021</td>\n",
       "      <td>2</td>\n",
       "      <td>...</td>\n",
       "      <td>0</td>\n",
       "      <td>1</td>\n",
       "      <td>0</td>\n",
       "      <td>0</td>\n",
       "      <td>0</td>\n",
       "      <td>0</td>\n",
       "      <td>0</td>\n",
       "      <td>0</td>\n",
       "      <td>0</td>\n",
       "      <td>0</td>\n",
       "    </tr>\n",
       "    <tr>\n",
       "      <th>5340</th>\n",
       "      <td>4</td>\n",
       "      <td>264</td>\n",
       "      <td>11.0</td>\n",
       "      <td>16.0</td>\n",
       "      <td>6950</td>\n",
       "      <td>12</td>\n",
       "      <td>2021</td>\n",
       "      <td>2</td>\n",
       "      <td>2021</td>\n",
       "      <td>2</td>\n",
       "      <td>...</td>\n",
       "      <td>0</td>\n",
       "      <td>0</td>\n",
       "      <td>1</td>\n",
       "      <td>0</td>\n",
       "      <td>0</td>\n",
       "      <td>0</td>\n",
       "      <td>0</td>\n",
       "      <td>0</td>\n",
       "      <td>0</td>\n",
       "      <td>0</td>\n",
       "    </tr>\n",
       "    <tr>\n",
       "      <th>5341</th>\n",
       "      <td>4</td>\n",
       "      <td>264</td>\n",
       "      <td>11.0</td>\n",
       "      <td>16.0</td>\n",
       "      <td>6950</td>\n",
       "      <td>12</td>\n",
       "      <td>2021</td>\n",
       "      <td>2</td>\n",
       "      <td>2021</td>\n",
       "      <td>2</td>\n",
       "      <td>...</td>\n",
       "      <td>0</td>\n",
       "      <td>0</td>\n",
       "      <td>1</td>\n",
       "      <td>0</td>\n",
       "      <td>0</td>\n",
       "      <td>0</td>\n",
       "      <td>0</td>\n",
       "      <td>0</td>\n",
       "      <td>0</td>\n",
       "      <td>0</td>\n",
       "    </tr>\n",
       "  </tbody>\n",
       "</table>\n",
       "<p>5342 rows × 23 columns</p>\n",
       "</div>"
      ],
      "text/plain": [
       "      name  city  Distance_to_city_center(km)  Distance_to_Airpot(km)  PRICE  \\\n",
       "0        3   279                          4.0                    20.0   5040   \n",
       "1        5   279                          9.9                    22.0   7800   \n",
       "2        7   279                          4.7                    21.0   6700   \n",
       "3        7   279                          4.7                    21.0   6700   \n",
       "4        4   279                          4.5                    20.0   6375   \n",
       "...    ...   ...                          ...                     ...    ...   \n",
       "5337     2   264                          4.9                     9.7  46349   \n",
       "5338     2   264                          1.6                     8.0   8793   \n",
       "5339     1   264                         77.0                    77.0   5396   \n",
       "5340     4   264                         11.0                    16.0   6950   \n",
       "5341     4   264                         11.0                    16.0   6950   \n",
       "\n",
       "      check_in_month  check_in_year  check_in_day  check_out_year  \\\n",
       "0                 12           2021             2            2021   \n",
       "1                 12           2021             2            2021   \n",
       "2                 12           2021             2            2021   \n",
       "3                 12           2021             2            2021   \n",
       "4                 12           2021             2            2021   \n",
       "...              ...            ...           ...             ...   \n",
       "5337              12           2021             2            2021   \n",
       "5338              12           2021             2            2021   \n",
       "5339              12           2021             2            2021   \n",
       "5340              12           2021             2            2021   \n",
       "5341              12           2021             2            2021   \n",
       "\n",
       "      check_out_month  ...  spa_yes  free_parking_yes  bathtub_yes  \\\n",
       "0                   2  ...        1                 1            0   \n",
       "1                   2  ...        1                 1            0   \n",
       "2                   2  ...        1                 1            0   \n",
       "3                   2  ...        1                 1            0   \n",
       "4                   2  ...        1                 1            0   \n",
       "...               ...  ...      ...               ...          ...   \n",
       "5337                2  ...        0                 1            1   \n",
       "5338                2  ...        0                 0            1   \n",
       "5339                2  ...        0                 1            0   \n",
       "5340                2  ...        0                 0            1   \n",
       "5341                2  ...        0                 0            1   \n",
       "\n",
       "      restuarant_yes  Airport_transfer_yes  Bar_yes  Kitchen_yes  \\\n",
       "0                  1                     1        0            0   \n",
       "1                  1                     1        0            0   \n",
       "2                  1                     1        0            0   \n",
       "3                  1                     1        0            0   \n",
       "4                  1                     1        0            0   \n",
       "...              ...                   ...      ...          ...   \n",
       "5337               0                     0        0            0   \n",
       "5338               0                     0        0            0   \n",
       "5339               0                     0        0            0   \n",
       "5340               0                     0        0            0   \n",
       "5341               0                     0        0            0   \n",
       "\n",
       "      Connecting_rooms_available_yes  Internet_access_yes  Pet_friendly_yes  \n",
       "0                                  0                    0                 0  \n",
       "1                                  0                    0                 0  \n",
       "2                                  0                    0                 0  \n",
       "3                                  0                    0                 0  \n",
       "4                                  0                    0                 0  \n",
       "...                              ...                  ...               ...  \n",
       "5337                               0                    0                 0  \n",
       "5338                               0                    0                 0  \n",
       "5339                               0                    0                 0  \n",
       "5340                               0                    0                 0  \n",
       "5341                               0                    0                 0  \n",
       "\n",
       "[5342 rows x 23 columns]"
      ]
     },
     "execution_count": 185,
     "metadata": {},
     "output_type": "execute_result"
    }
   ],
   "source": [
    "dataset"
   ]
  },
  {
   "cell_type": "markdown",
   "metadata": {},
   "source": [
    "# Splitting into train and test data"
   ]
  },
  {
   "cell_type": "code",
   "execution_count": 186,
   "metadata": {},
   "outputs": [],
   "source": [
    "x=dataset.iloc[:,0:22].values"
   ]
  },
  {
   "cell_type": "code",
   "execution_count": 187,
   "metadata": {},
   "outputs": [],
   "source": [
    "y=dataset.iloc[:,22]"
   ]
  },
  {
   "cell_type": "code",
   "execution_count": 188,
   "metadata": {},
   "outputs": [],
   "source": [
    "from sklearn.model_selection import train_test_split"
   ]
  },
  {
   "cell_type": "code",
   "execution_count": 189,
   "metadata": {},
   "outputs": [],
   "source": [
    "x_train,x_test,y_train,y_test=train_test_split(x,y,test_size=0.2,random_state=42)"
   ]
  },
  {
   "cell_type": "markdown",
   "metadata": {},
   "source": [
    "# Feature Scaling"
   ]
  },
  {
   "cell_type": "code",
   "execution_count": 190,
   "metadata": {},
   "outputs": [],
   "source": [
    "from sklearn.preprocessing import StandardScaler"
   ]
  },
  {
   "cell_type": "code",
   "execution_count": 191,
   "metadata": {},
   "outputs": [],
   "source": [
    "sc=StandardScaler()"
   ]
  },
  {
   "cell_type": "code",
   "execution_count": 192,
   "metadata": {},
   "outputs": [],
   "source": [
    "x_train=sc.fit_transform(x_train)"
   ]
  },
  {
   "cell_type": "code",
   "execution_count": 193,
   "metadata": {},
   "outputs": [],
   "source": [
    "x_test=sc.transform(x_test)"
   ]
  },
  {
   "cell_type": "markdown",
   "metadata": {},
   "source": [
    "# Building a model"
   ]
  },
  {
   "cell_type": "code",
   "execution_count": 194,
   "metadata": {},
   "outputs": [
    {
     "name": "stdout",
     "output_type": "stream",
     "text": [
      "r2_score: 0.048512662798425144\n"
     ]
    }
   ],
   "source": [
    "from sklearn.linear_model import Ridge\n",
    "ri_model=Ridge(alpha=1)\n",
    "ri_model.fit(x_train,y_train)\n",
    "y_predri=ri_model.predict(x_test)\n",
    "\n",
    "from sklearn.metrics import mean_squared_error\n",
    "from sklearn.metrics import r2_score\n",
    "\n",
    "r2_scoreri=r2_score(y_test,y_predri)\n",
    "print(\"r2_score:\",r2_scoreri)"
   ]
  },
  {
   "cell_type": "code",
   "execution_count": 195,
   "metadata": {},
   "outputs": [
    {
     "name": "stdout",
     "output_type": "stream",
     "text": [
      "r2_score -0.0009303604480987993\n"
     ]
    }
   ],
   "source": [
    "from sklearn.linear_model import Lasso\n",
    "la_model=Lasso(alpha=1)\n",
    "la_model.fit(x_train,y_train)\n",
    "y_predla=la_model.predict(x_test)\n",
    "\n",
    "r2_scorela=r2_score(y_test,y_predla)\n",
    "print(\"r2_score\",r2_scorela)"
   ]
  },
  {
   "cell_type": "code",
   "execution_count": 196,
   "metadata": {},
   "outputs": [
    {
     "name": "stdout",
     "output_type": "stream",
     "text": [
      "r2_score 0.4032144326261974\n"
     ]
    }
   ],
   "source": [
    "from sklearn.tree import DecisionTreeRegressor\n",
    "dt= DecisionTreeRegressor(max_features='auto')\n",
    "dt.fit(x_train,y_train)\n",
    "y_preddt=dt.predict(x_test)\n",
    "\n",
    "r2_scoredt=r2_score(y_test,y_preddt)\n",
    "print(\"r2_score\",r2_scoredt)\n"
   ]
  },
  {
   "cell_type": "code",
   "execution_count": 197,
   "metadata": {},
   "outputs": [
    {
     "name": "stdout",
     "output_type": "stream",
     "text": [
      "r2_score -0.0006331134911941039\n"
     ]
    }
   ],
   "source": [
    "from sklearn.ensemble import AdaBoostRegressor\n",
    "from sklearn.linear_model import LogisticRegression\n",
    "from sklearn.ensemble import RandomForestRegressor\n",
    "adb=AdaBoostRegressor(n_estimators=10)\n",
    "adb.fit(x_train,y_train)\n",
    "y_predadb=adb.predict(x_test)\n",
    "\n",
    "r2_scoreadb=r2_score(y_test,y_predadb)\n",
    "print(\"r2_score\",r2_scoreadb)"
   ]
  },
  {
   "cell_type": "code",
   "execution_count": 198,
   "metadata": {},
   "outputs": [
    {
     "name": "stdout",
     "output_type": "stream",
     "text": [
      "r2_score 0.10191500749465776\n"
     ]
    }
   ],
   "source": [
    "from sklearn.ensemble import GradientBoostingRegressor\n",
    "from sklearn.linear_model import LogisticRegression\n",
    "from sklearn.ensemble import RandomForestRegressor\n",
    "\n",
    "gbm=GradientBoostingRegressor(n_estimators=10)\n",
    "gbm.fit(x_train,y_train)\n",
    "y_predgbm=gbm.predict(x_test)\n",
    "\n",
    "r2_scoregbm=r2_score(y_test,y_predgbm)\n",
    "print(\"r2_score\",r2_scoregbm)"
   ]
  },
  {
   "cell_type": "code",
   "execution_count": 199,
   "metadata": {},
   "outputs": [
    {
     "name": "stdout",
     "output_type": "stream",
     "text": [
      "r2_score -0.02212332606512435\n"
     ]
    }
   ],
   "source": [
    "from sklearn.svm import SVR\n",
    "sv=SVR(kernel=\"linear\")\n",
    "sv.fit(x_train,y_train)\n",
    "y_predsvr=sv.predict(x_test)\n",
    "\n",
    "r2_scoresvr=r2_score(y_test,y_predsvr)\n",
    "print(\"r2_score\",r2_scoresvr)"
   ]
  },
  {
   "cell_type": "code",
   "execution_count": 200,
   "metadata": {},
   "outputs": [
    {
     "name": "stdout",
     "output_type": "stream",
     "text": [
      "r2_score 0.4194728077150157\n"
     ]
    }
   ],
   "source": [
    "from xgboost import XGBRegressor\n",
    "from sklearn.linear_model import LogisticRegression\n",
    "from sklearn.ensemble import RandomForestRegressor\n",
    "\n",
    "xgb=XGBRegressor(n_estimators=10)\n",
    "xgb.fit(x_train,y_train)\n",
    "y_predxg=xgb.predict(x_test)\n",
    "\n",
    "r2_scorexg=r2_score(y_test,y_predxg)\n",
    "print(\"r2_score\",r2_scorexg)"
   ]
  },
  {
   "cell_type": "code",
   "execution_count": 202,
   "metadata": {},
   "outputs": [
    {
     "name": "stdout",
     "output_type": "stream",
     "text": [
      "r2_score 0.6667046835517425\n"
     ]
    }
   ],
   "source": [
    "from sklearn.ensemble import RandomForestRegressor\n",
    "rf=RandomForestRegressor()\n",
    "rf.fit(x_train,y_train)\n",
    "y_predrf=rf.predict(x_test)\n",
    "\n",
    "r2_scorerf=r2_score(y_test,y_predrf)\n",
    "print(\"r2_score\",r2_scorerf)"
   ]
  },
  {
   "cell_type": "code",
   "execution_count": null,
   "metadata": {},
   "outputs": [],
   "source": []
  },
  {
   "cell_type": "code",
   "execution_count": 232,
   "metadata": {},
   "outputs": [
    {
     "data": {
      "image/png": "[encoded data removed]",
      "text/plain": [
       "<Figure size 432x288 with 1 Axes>"
      ]
     },
     "metadata": {
      "needs_background": "light"
     },
     "output_type": "display_data"
    }
   ],
   "source": [
    "x=[\"Ridge\",\"Lasso\",\"DT\",\"ADB\",\"GBM\",\"SVR\",\"XG\",\"RF\",\"Catboost\"]\n",
    "y=[r2_scoreri,r2_scorela,r2_scoredt,r2_scoreadb,r2_scoregbm,r2_scoresvr,r2_scorexg,r2_scorerf,r2_scorecat]\n",
    "plt.bar(x,y)\n",
    "plt.title(\"R2_score\")\n",
    "plt.show()"
   ]
  },
  {
   "cell_type": "markdown",
   "metadata": {},
   "source": [
    "# Hyperparameter tuning in DT"
   ]
  },
  {
   "cell_type": "code",
   "execution_count": 205,
   "metadata": {},
   "outputs": [],
   "source": [
    "from sklearn.model_selection import GridSearchCV\n",
    "from sklearn.model_selection import RandomizedSearchCV"
   ]
  },
  {
   "cell_type": "code",
   "execution_count": 206,
   "metadata": {},
   "outputs": [],
   "source": [
    "dt=DecisionTreeRegressor()"
   ]
  },
  {
   "cell_type": "code",
   "execution_count": 207,
   "metadata": {},
   "outputs": [],
   "source": [
    "max_depth=np.linspace(3,100,num=2,dtype=\"int\")\n",
    "max_features=['auto','sqrt','log2']\n",
    "min_samples_leaf=[1,2,5,10,15]\n",
    "min_samples_split=[2,5,10,15,30,50]\n",
    "criterion=['mse']"
   ]
  },
  {
   "cell_type": "code",
   "execution_count": 208,
   "metadata": {},
   "outputs": [],
   "source": [
    "param_dict={\"max_depth\":max_depth,\n",
    "            \"max_features\":max_features,\n",
    "            \"min_samples_leaf\": min_samples_leaf,\n",
    "            \"min_samples_split\":min_samples_split,\n",
    "            \"criterion\":criterion\n",
    "           }"
   ]
  },
  {
   "cell_type": "code",
   "execution_count": 209,
   "metadata": {},
   "outputs": [
    {
     "data": {
      "text/plain": [
       "{'max_depth': array([  3, 100]),\n",
       " 'max_features': ['auto', 'sqrt', 'log2'],\n",
       " 'min_samples_leaf': [1, 2, 5, 10, 15],\n",
       " 'min_samples_split': [2, 5, 10, 15, 30, 50],\n",
       " 'criterion': ['mse']}"
      ]
     },
     "execution_count": 209,
     "metadata": {},
     "output_type": "execute_result"
    }
   ],
   "source": [
    "param_dict"
   ]
  },
  {
   "cell_type": "code",
   "execution_count": 210,
   "metadata": {},
   "outputs": [],
   "source": [
    "gsv= GridSearchCV(dt,param_grid=param_dict,scoring=\"r2\", n_jobs=-1,cv=5,verbose=5,return_train_score=True)"
   ]
  },
  {
   "cell_type": "code",
   "execution_count": 211,
   "metadata": {},
   "outputs": [
    {
     "name": "stdout",
     "output_type": "stream",
     "text": [
      "Fitting 5 folds for each of 180 candidates, totalling 900 fits\n"
     ]
    },
    {
     "name": "stderr",
     "output_type": "stream",
     "text": [
      "[Parallel(n_jobs=-1)]: Using backend LokyBackend with 8 concurrent workers.\n",
      "[Parallel(n_jobs=-1)]: Done   2 tasks      | elapsed:    3.4s\n",
      "[Parallel(n_jobs=-1)]: Done  64 tasks      | elapsed:    3.9s\n",
      "[Parallel(n_jobs=-1)]: Done 772 tasks      | elapsed:    5.8s\n",
      "[Parallel(n_jobs=-1)]: Done 900 out of 900 | elapsed:    6.3s finished\n"
     ]
    },
    {
     "data": {
      "text/plain": [
       "GridSearchCV(cv=5, estimator=DecisionTreeRegressor(), n_jobs=-1,\n",
       "             param_grid={'criterion': ['mse'], 'max_depth': array([  3, 100]),\n",
       "                         'max_features': ['auto', 'sqrt', 'log2'],\n",
       "                         'min_samples_leaf': [1, 2, 5, 10, 15],\n",
       "                         'min_samples_split': [2, 5, 10, 15, 30, 50]},\n",
       "             return_train_score=True, scoring='r2', verbose=5)"
      ]
     },
     "execution_count": 211,
     "metadata": {},
     "output_type": "execute_result"
    }
   ],
   "source": [
    "gsv.fit(x_train,y_train)"
   ]
  },
  {
   "cell_type": "code",
   "execution_count": 212,
   "metadata": {},
   "outputs": [],
   "source": [
    "y_predgsv=gsv.predict(x_test)"
   ]
  },
  {
   "cell_type": "code",
   "execution_count": 213,
   "metadata": {},
   "outputs": [
    {
     "data": {
      "text/plain": [
       "0.2795920339104992"
      ]
     },
     "execution_count": 213,
     "metadata": {},
     "output_type": "execute_result"
    }
   ],
   "source": [
    "gsv.best_score_"
   ]
  },
  {
   "cell_type": "code",
   "execution_count": 214,
   "metadata": {},
   "outputs": [
    {
     "data": {
      "text/plain": [
       "DecisionTreeRegressor(max_depth=100, max_features='auto', min_samples_leaf=2,\n",
       "                      min_samples_split=5)"
      ]
     },
     "execution_count": 214,
     "metadata": {},
     "output_type": "execute_result"
    }
   ],
   "source": [
    "gsv.best_estimator_"
   ]
  },
  {
   "cell_type": "code",
   "execution_count": 215,
   "metadata": {},
   "outputs": [
    {
     "data": {
      "text/plain": [
       "{'criterion': 'mse',\n",
       " 'max_depth': 100,\n",
       " 'max_features': 'auto',\n",
       " 'min_samples_leaf': 2,\n",
       " 'min_samples_split': 5}"
      ]
     },
     "execution_count": 215,
     "metadata": {},
     "output_type": "execute_result"
    }
   ],
   "source": [
    "gsv.best_params_"
   ]
  },
  {
   "cell_type": "markdown",
   "metadata": {},
   "source": [
    "# RandomizedSearchCV"
   ]
  },
  {
   "cell_type": "code",
   "execution_count": 216,
   "metadata": {},
   "outputs": [],
   "source": [
    "rmsv=RandomizedSearchCV(dt,param_distributions=param_dict,scoring=\"r2\", n_jobs=-1,cv=3,verbose=5,return_train_score=True)"
   ]
  },
  {
   "cell_type": "code",
   "execution_count": 217,
   "metadata": {},
   "outputs": [
    {
     "name": "stderr",
     "output_type": "stream",
     "text": [
      "[Parallel(n_jobs=-1)]: Using backend LokyBackend with 8 concurrent workers.\n"
     ]
    },
    {
     "name": "stdout",
     "output_type": "stream",
     "text": [
      "Fitting 3 folds for each of 10 candidates, totalling 30 fits\n"
     ]
    },
    {
     "name": "stderr",
     "output_type": "stream",
     "text": [
      "[Parallel(n_jobs=-1)]: Done   2 tasks      | elapsed:    0.0s\n",
      "[Parallel(n_jobs=-1)]: Done  22 out of  30 | elapsed:    0.1s remaining:    0.0s\n",
      "[Parallel(n_jobs=-1)]: Done  30 out of  30 | elapsed:    0.1s finished\n"
     ]
    },
    {
     "data": {
      "text/plain": [
       "RandomizedSearchCV(cv=3, estimator=DecisionTreeRegressor(), n_jobs=-1,\n",
       "                   param_distributions={'criterion': ['mse'],\n",
       "                                        'max_depth': array([  3, 100]),\n",
       "                                        'max_features': ['auto', 'sqrt',\n",
       "                                                         'log2'],\n",
       "                                        'min_samples_leaf': [1, 2, 5, 10, 15],\n",
       "                                        'min_samples_split': [2, 5, 10, 15, 30,\n",
       "                                                              50]},\n",
       "                   return_train_score=True, scoring='r2', verbose=5)"
      ]
     },
     "execution_count": 217,
     "metadata": {},
     "output_type": "execute_result"
    }
   ],
   "source": [
    "rmsv.fit(x_train,y_train)"
   ]
  },
  {
   "cell_type": "code",
   "execution_count": 218,
   "metadata": {},
   "outputs": [],
   "source": [
    "y_predrmsv=rmsv.predict(x_test)"
   ]
  },
  {
   "cell_type": "code",
   "execution_count": 219,
   "metadata": {},
   "outputs": [
    {
     "data": {
      "text/plain": [
       "DecisionTreeRegressor(max_depth=100, max_features='auto', min_samples_split=50)"
      ]
     },
     "execution_count": 219,
     "metadata": {},
     "output_type": "execute_result"
    }
   ],
   "source": [
    "rmsv.best_estimator_"
   ]
  },
  {
   "cell_type": "code",
   "execution_count": 220,
   "metadata": {},
   "outputs": [
    {
     "data": {
      "text/plain": [
       "{'min_samples_split': 50,\n",
       " 'min_samples_leaf': 1,\n",
       " 'max_features': 'auto',\n",
       " 'max_depth': 100,\n",
       " 'criterion': 'mse'}"
      ]
     },
     "execution_count": 220,
     "metadata": {},
     "output_type": "execute_result"
    }
   ],
   "source": [
    "rmsv.best_params_"
   ]
  },
  {
   "cell_type": "code",
   "execution_count": 221,
   "metadata": {},
   "outputs": [
    {
     "data": {
      "text/plain": [
       "0.18882801816662598"
      ]
     },
     "execution_count": 221,
     "metadata": {},
     "output_type": "execute_result"
    }
   ],
   "source": [
    "rmsv.best_score_"
   ]
  },
  {
   "cell_type": "code",
   "execution_count": null,
   "metadata": {},
   "outputs": [],
   "source": []
  },
  {
   "cell_type": "markdown",
   "metadata": {},
   "source": [
    "# cat_boost"
   ]
  },
  {
   "cell_type": "code",
   "execution_count": 222,
   "metadata": {},
   "outputs": [],
   "source": [
    "from catboost import CatBoostRegressor\n"
   ]
  },
  {
   "cell_type": "code",
   "execution_count": 223,
   "metadata": {},
   "outputs": [],
   "source": [
    "categorical_features_indices = np.where(dataset.dtypes != np.float)[0]"
   ]
  },
  {
   "cell_type": "code",
   "execution_count": 224,
   "metadata": {
    "scrolled": true
   },
   "outputs": [
    {
     "name": "stdout",
     "output_type": "stream",
     "text": [
      "0:\tlearn: 0.2137642\ttotal: 94.1ms\tremaining: 1m 33s\n",
      "1:\tlearn: 0.2107197\ttotal: 98.7ms\tremaining: 49.2s\n",
      "2:\tlearn: 0.2067023\ttotal: 103ms\tremaining: 34.2s\n",
      "3:\tlearn: 0.2003839\ttotal: 107ms\tremaining: 26.5s\n",
      "4:\tlearn: 0.1986814\ttotal: 110ms\tremaining: 21.9s\n",
      "5:\tlearn: 0.1955870\ttotal: 114ms\tremaining: 18.8s\n",
      "6:\tlearn: 0.1934659\ttotal: 117ms\tremaining: 16.6s\n",
      "7:\tlearn: 0.1916419\ttotal: 121ms\tremaining: 15s\n",
      "8:\tlearn: 0.1892353\ttotal: 125ms\tremaining: 13.7s\n",
      "9:\tlearn: 0.1872279\ttotal: 128ms\tremaining: 12.7s\n",
      "10:\tlearn: 0.1850606\ttotal: 133ms\tremaining: 11.9s\n",
      "11:\tlearn: 0.1833553\ttotal: 137ms\tremaining: 11.3s\n",
      "12:\tlearn: 0.1787062\ttotal: 141ms\tremaining: 10.7s\n",
      "13:\tlearn: 0.1767125\ttotal: 145ms\tremaining: 10.2s\n",
      "14:\tlearn: 0.1743497\ttotal: 149ms\tremaining: 9.78s\n",
      "15:\tlearn: 0.1731460\ttotal: 153ms\tremaining: 9.38s\n",
      "16:\tlearn: 0.1713679\ttotal: 156ms\tremaining: 9s\n",
      "17:\tlearn: 0.1702248\ttotal: 159ms\tremaining: 8.69s\n",
      "18:\tlearn: 0.1690339\ttotal: 163ms\tremaining: 8.41s\n",
      "19:\tlearn: 0.1677767\ttotal: 167ms\tremaining: 8.17s\n",
      "20:\tlearn: 0.1661463\ttotal: 171ms\tremaining: 7.96s\n",
      "21:\tlearn: 0.1649154\ttotal: 174ms\tremaining: 7.75s\n",
      "22:\tlearn: 0.1634830\ttotal: 178ms\tremaining: 7.57s\n",
      "23:\tlearn: 0.1613296\ttotal: 182ms\tremaining: 7.4s\n",
      "24:\tlearn: 0.1592181\ttotal: 186ms\tremaining: 7.25s\n",
      "25:\tlearn: 0.1586304\ttotal: 190ms\tremaining: 7.1s\n",
      "26:\tlearn: 0.1567616\ttotal: 193ms\tremaining: 6.96s\n",
      "27:\tlearn: 0.1554731\ttotal: 197ms\tremaining: 6.83s\n",
      "28:\tlearn: 0.1538650\ttotal: 201ms\tremaining: 6.71s\n",
      "29:\tlearn: 0.1511189\ttotal: 204ms\tremaining: 6.6s\n",
      "30:\tlearn: 0.1498560\ttotal: 208ms\tremaining: 6.49s\n",
      "31:\tlearn: 0.1483053\ttotal: 211ms\tremaining: 6.39s\n",
      "32:\tlearn: 0.1472196\ttotal: 215ms\tremaining: 6.3s\n",
      "33:\tlearn: 0.1461278\ttotal: 219ms\tremaining: 6.21s\n",
      "34:\tlearn: 0.1438427\ttotal: 222ms\tremaining: 6.13s\n",
      "35:\tlearn: 0.1424720\ttotal: 226ms\tremaining: 6.05s\n",
      "36:\tlearn: 0.1418344\ttotal: 230ms\tremaining: 5.98s\n",
      "37:\tlearn: 0.1408943\ttotal: 233ms\tremaining: 5.9s\n",
      "38:\tlearn: 0.1403571\ttotal: 237ms\tremaining: 5.84s\n",
      "39:\tlearn: 0.1394437\ttotal: 241ms\tremaining: 5.79s\n",
      "40:\tlearn: 0.1383733\ttotal: 245ms\tremaining: 5.73s\n",
      "41:\tlearn: 0.1367672\ttotal: 249ms\tremaining: 5.67s\n",
      "42:\tlearn: 0.1360299\ttotal: 252ms\tremaining: 5.61s\n",
      "43:\tlearn: 0.1352690\ttotal: 256ms\tremaining: 5.56s\n",
      "44:\tlearn: 0.1349034\ttotal: 260ms\tremaining: 5.51s\n",
      "45:\tlearn: 0.1331377\ttotal: 263ms\tremaining: 5.46s\n",
      "46:\tlearn: 0.1321773\ttotal: 267ms\tremaining: 5.42s\n",
      "47:\tlearn: 0.1308216\ttotal: 271ms\tremaining: 5.37s\n",
      "48:\tlearn: 0.1297443\ttotal: 274ms\tremaining: 5.33s\n",
      "49:\tlearn: 0.1292517\ttotal: 278ms\tremaining: 5.28s\n",
      "50:\tlearn: 0.1278150\ttotal: 281ms\tremaining: 5.23s\n",
      "51:\tlearn: 0.1270829\ttotal: 285ms\tremaining: 5.19s\n",
      "52:\tlearn: 0.1262049\ttotal: 288ms\tremaining: 5.14s\n",
      "53:\tlearn: 0.1255033\ttotal: 291ms\tremaining: 5.1s\n",
      "54:\tlearn: 0.1248914\ttotal: 295ms\tremaining: 5.06s\n",
      "55:\tlearn: 0.1236710\ttotal: 298ms\tremaining: 5.02s\n",
      "56:\tlearn: 0.1214986\ttotal: 302ms\tremaining: 4.99s\n",
      "57:\tlearn: 0.1207132\ttotal: 305ms\tremaining: 4.96s\n",
      "58:\tlearn: 0.1184807\ttotal: 309ms\tremaining: 4.92s\n",
      "59:\tlearn: 0.1177566\ttotal: 312ms\tremaining: 4.89s\n",
      "60:\tlearn: 0.1169971\ttotal: 316ms\tremaining: 4.86s\n",
      "61:\tlearn: 0.1164872\ttotal: 319ms\tremaining: 4.82s\n",
      "62:\tlearn: 0.1156040\ttotal: 322ms\tremaining: 4.79s\n",
      "63:\tlearn: 0.1151716\ttotal: 326ms\tremaining: 4.76s\n",
      "64:\tlearn: 0.1145913\ttotal: 329ms\tremaining: 4.74s\n",
      "65:\tlearn: 0.1141171\ttotal: 333ms\tremaining: 4.71s\n",
      "66:\tlearn: 0.1137678\ttotal: 336ms\tremaining: 4.68s\n",
      "67:\tlearn: 0.1127941\ttotal: 340ms\tremaining: 4.66s\n",
      "68:\tlearn: 0.1116273\ttotal: 343ms\tremaining: 4.63s\n",
      "69:\tlearn: 0.1114765\ttotal: 347ms\tremaining: 4.6s\n",
      "70:\tlearn: 0.1106111\ttotal: 350ms\tremaining: 4.58s\n",
      "71:\tlearn: 0.1102673\ttotal: 353ms\tremaining: 4.55s\n",
      "72:\tlearn: 0.1095401\ttotal: 356ms\tremaining: 4.52s\n",
      "73:\tlearn: 0.1084495\ttotal: 360ms\tremaining: 4.5s\n",
      "74:\tlearn: 0.1073802\ttotal: 363ms\tremaining: 4.48s\n",
      "75:\tlearn: 0.1066238\ttotal: 367ms\tremaining: 4.46s\n",
      "76:\tlearn: 0.1061892\ttotal: 370ms\tremaining: 4.44s\n",
      "77:\tlearn: 0.1058789\ttotal: 373ms\tremaining: 4.41s\n",
      "78:\tlearn: 0.1045788\ttotal: 376ms\tremaining: 4.38s\n",
      "79:\tlearn: 0.1042042\ttotal: 379ms\tremaining: 4.36s\n",
      "80:\tlearn: 0.1038312\ttotal: 383ms\tremaining: 4.34s\n",
      "81:\tlearn: 0.1033844\ttotal: 386ms\tremaining: 4.32s\n",
      "82:\tlearn: 0.1019197\ttotal: 389ms\tremaining: 4.3s\n",
      "83:\tlearn: 0.1014082\ttotal: 393ms\tremaining: 4.29s\n",
      "84:\tlearn: 0.1010077\ttotal: 397ms\tremaining: 4.28s\n",
      "85:\tlearn: 0.1004312\ttotal: 402ms\tremaining: 4.27s\n",
      "86:\tlearn: 0.1002070\ttotal: 406ms\tremaining: 4.25s\n",
      "87:\tlearn: 0.0997627\ttotal: 409ms\tremaining: 4.24s\n",
      "88:\tlearn: 0.0992792\ttotal: 413ms\tremaining: 4.22s\n",
      "89:\tlearn: 0.0989873\ttotal: 417ms\tremaining: 4.21s\n",
      "90:\tlearn: 0.0982724\ttotal: 420ms\tremaining: 4.2s\n",
      "91:\tlearn: 0.0978312\ttotal: 424ms\tremaining: 4.18s\n",
      "92:\tlearn: 0.0974564\ttotal: 427ms\tremaining: 4.17s\n",
      "93:\tlearn: 0.0970788\ttotal: 432ms\tremaining: 4.16s\n",
      "94:\tlearn: 0.0962271\ttotal: 435ms\tremaining: 4.15s\n",
      "95:\tlearn: 0.0959322\ttotal: 439ms\tremaining: 4.13s\n",
      "96:\tlearn: 0.0958441\ttotal: 442ms\tremaining: 4.11s\n",
      "97:\tlearn: 0.0956899\ttotal: 445ms\tremaining: 4.1s\n",
      "98:\tlearn: 0.0949828\ttotal: 449ms\tremaining: 4.08s\n",
      "99:\tlearn: 0.0945847\ttotal: 454ms\tremaining: 4.09s\n",
      "100:\tlearn: 0.0940302\ttotal: 458ms\tremaining: 4.08s\n",
      "101:\tlearn: 0.0934503\ttotal: 463ms\tremaining: 4.07s\n",
      "102:\tlearn: 0.0928389\ttotal: 466ms\tremaining: 4.06s\n",
      "103:\tlearn: 0.0921250\ttotal: 470ms\tremaining: 4.05s\n",
      "104:\tlearn: 0.0910955\ttotal: 474ms\tremaining: 4.04s\n",
      "105:\tlearn: 0.0907602\ttotal: 477ms\tremaining: 4.03s\n",
      "106:\tlearn: 0.0904481\ttotal: 481ms\tremaining: 4.01s\n",
      "107:\tlearn: 0.0900236\ttotal: 485ms\tremaining: 4s\n",
      "108:\tlearn: 0.0899369\ttotal: 488ms\tremaining: 3.99s\n",
      "109:\tlearn: 0.0894352\ttotal: 492ms\tremaining: 3.98s\n",
      "110:\tlearn: 0.0891027\ttotal: 496ms\tremaining: 3.97s\n",
      "111:\tlearn: 0.0884080\ttotal: 499ms\tremaining: 3.96s\n",
      "112:\tlearn: 0.0877354\ttotal: 503ms\tremaining: 3.95s\n",
      "113:\tlearn: 0.0872397\ttotal: 506ms\tremaining: 3.94s\n",
      "114:\tlearn: 0.0867516\ttotal: 510ms\tremaining: 3.93s\n",
      "115:\tlearn: 0.0864861\ttotal: 514ms\tremaining: 3.91s\n",
      "116:\tlearn: 0.0859233\ttotal: 517ms\tremaining: 3.9s\n",
      "117:\tlearn: 0.0853854\ttotal: 521ms\tremaining: 3.89s\n",
      "118:\tlearn: 0.0850589\ttotal: 525ms\tremaining: 3.88s\n",
      "119:\tlearn: 0.0846015\ttotal: 528ms\tremaining: 3.87s\n",
      "120:\tlearn: 0.0843080\ttotal: 532ms\tremaining: 3.86s\n",
      "121:\tlearn: 0.0838016\ttotal: 535ms\tremaining: 3.85s\n",
      "122:\tlearn: 0.0829153\ttotal: 539ms\tremaining: 3.84s\n",
      "123:\tlearn: 0.0822692\ttotal: 543ms\tremaining: 3.83s\n",
      "124:\tlearn: 0.0818734\ttotal: 546ms\tremaining: 3.82s\n",
      "125:\tlearn: 0.0810689\ttotal: 550ms\tremaining: 3.81s\n",
      "126:\tlearn: 0.0806323\ttotal: 553ms\tremaining: 3.8s\n",
      "127:\tlearn: 0.0804747\ttotal: 557ms\tremaining: 3.79s\n",
      "128:\tlearn: 0.0801696\ttotal: 561ms\tremaining: 3.79s\n",
      "129:\tlearn: 0.0798557\ttotal: 565ms\tremaining: 3.78s\n",
      "130:\tlearn: 0.0793582\ttotal: 569ms\tremaining: 3.77s\n",
      "131:\tlearn: 0.0789853\ttotal: 572ms\tremaining: 3.76s\n",
      "132:\tlearn: 0.0785970\ttotal: 575ms\tremaining: 3.75s\n",
      "133:\tlearn: 0.0781703\ttotal: 579ms\tremaining: 3.74s\n",
      "134:\tlearn: 0.0780500\ttotal: 583ms\tremaining: 3.73s\n",
      "135:\tlearn: 0.0777515\ttotal: 586ms\tremaining: 3.72s\n",
      "136:\tlearn: 0.0774811\ttotal: 590ms\tremaining: 3.71s\n",
      "137:\tlearn: 0.0763135\ttotal: 593ms\tremaining: 3.71s\n",
      "138:\tlearn: 0.0761151\ttotal: 597ms\tremaining: 3.7s\n",
      "139:\tlearn: 0.0758275\ttotal: 600ms\tremaining: 3.69s\n",
      "140:\tlearn: 0.0756005\ttotal: 604ms\tremaining: 3.68s\n",
      "141:\tlearn: 0.0752091\ttotal: 607ms\tremaining: 3.67s\n",
      "142:\tlearn: 0.0749063\ttotal: 611ms\tremaining: 3.66s\n",
      "143:\tlearn: 0.0746449\ttotal: 615ms\tremaining: 3.65s\n",
      "144:\tlearn: 0.0743810\ttotal: 618ms\tremaining: 3.64s\n",
      "145:\tlearn: 0.0741021\ttotal: 621ms\tremaining: 3.63s\n",
      "146:\tlearn: 0.0736710\ttotal: 625ms\tremaining: 3.63s\n",
      "147:\tlearn: 0.0729036\ttotal: 628ms\tremaining: 3.62s\n",
      "148:\tlearn: 0.0725152\ttotal: 632ms\tremaining: 3.61s\n",
      "149:\tlearn: 0.0723563\ttotal: 636ms\tremaining: 3.6s\n",
      "150:\tlearn: 0.0720460\ttotal: 639ms\tremaining: 3.6s\n",
      "151:\tlearn: 0.0717760\ttotal: 643ms\tremaining: 3.59s\n",
      "152:\tlearn: 0.0715751\ttotal: 647ms\tremaining: 3.58s\n",
      "153:\tlearn: 0.0711910\ttotal: 651ms\tremaining: 3.57s\n",
      "154:\tlearn: 0.0707916\ttotal: 654ms\tremaining: 3.56s\n",
      "155:\tlearn: 0.0704437\ttotal: 659ms\tremaining: 3.56s\n",
      "156:\tlearn: 0.0700514\ttotal: 664ms\tremaining: 3.56s\n",
      "157:\tlearn: 0.0699320\ttotal: 668ms\tremaining: 3.56s\n",
      "158:\tlearn: 0.0696223\ttotal: 671ms\tremaining: 3.55s\n",
      "159:\tlearn: 0.0692585\ttotal: 674ms\tremaining: 3.54s\n",
      "160:\tlearn: 0.0688816\ttotal: 678ms\tremaining: 3.53s\n",
      "161:\tlearn: 0.0684235\ttotal: 682ms\tremaining: 3.53s\n",
      "162:\tlearn: 0.0683619\ttotal: 685ms\tremaining: 3.52s\n",
      "163:\tlearn: 0.0680746\ttotal: 689ms\tremaining: 3.51s\n",
      "164:\tlearn: 0.0678980\ttotal: 693ms\tremaining: 3.51s\n",
      "165:\tlearn: 0.0677679\ttotal: 697ms\tremaining: 3.5s\n",
      "166:\tlearn: 0.0674919\ttotal: 701ms\tremaining: 3.49s\n",
      "167:\tlearn: 0.0673268\ttotal: 704ms\tremaining: 3.49s\n",
      "168:\tlearn: 0.0669180\ttotal: 708ms\tremaining: 3.48s\n",
      "169:\tlearn: 0.0667791\ttotal: 712ms\tremaining: 3.48s\n",
      "170:\tlearn: 0.0666372\ttotal: 716ms\tremaining: 3.47s\n",
      "171:\tlearn: 0.0662554\ttotal: 720ms\tremaining: 3.46s\n",
      "172:\tlearn: 0.0661573\ttotal: 724ms\tremaining: 3.46s\n",
      "173:\tlearn: 0.0652718\ttotal: 727ms\tremaining: 3.45s\n",
      "174:\tlearn: 0.0648404\ttotal: 731ms\tremaining: 3.45s\n",
      "175:\tlearn: 0.0643770\ttotal: 735ms\tremaining: 3.44s\n",
      "176:\tlearn: 0.0640989\ttotal: 739ms\tremaining: 3.44s\n",
      "177:\tlearn: 0.0637647\ttotal: 742ms\tremaining: 3.43s\n",
      "178:\tlearn: 0.0636061\ttotal: 746ms\tremaining: 3.42s\n",
      "179:\tlearn: 0.0632410\ttotal: 750ms\tremaining: 3.42s\n",
      "180:\tlearn: 0.0632107\ttotal: 754ms\tremaining: 3.41s\n"
     ]
    },
    {
     "name": "stdout",
     "output_type": "stream",
     "text": [
      "181:\tlearn: 0.0631150\ttotal: 758ms\tremaining: 3.4s\n",
      "182:\tlearn: 0.0628763\ttotal: 761ms\tremaining: 3.4s\n",
      "183:\tlearn: 0.0627859\ttotal: 765ms\tremaining: 3.39s\n",
      "184:\tlearn: 0.0624654\ttotal: 770ms\tremaining: 3.39s\n",
      "185:\tlearn: 0.0620354\ttotal: 773ms\tremaining: 3.38s\n",
      "186:\tlearn: 0.0616519\ttotal: 776ms\tremaining: 3.38s\n",
      "187:\tlearn: 0.0613111\ttotal: 779ms\tremaining: 3.37s\n",
      "188:\tlearn: 0.0610324\ttotal: 783ms\tremaining: 3.36s\n",
      "189:\tlearn: 0.0608099\ttotal: 787ms\tremaining: 3.35s\n",
      "190:\tlearn: 0.0599959\ttotal: 790ms\tremaining: 3.35s\n",
      "191:\tlearn: 0.0598153\ttotal: 794ms\tremaining: 3.34s\n",
      "192:\tlearn: 0.0596601\ttotal: 798ms\tremaining: 3.34s\n",
      "193:\tlearn: 0.0593853\ttotal: 803ms\tremaining: 3.33s\n",
      "194:\tlearn: 0.0591871\ttotal: 806ms\tremaining: 3.33s\n",
      "195:\tlearn: 0.0587119\ttotal: 811ms\tremaining: 3.32s\n",
      "196:\tlearn: 0.0584414\ttotal: 814ms\tremaining: 3.32s\n",
      "197:\tlearn: 0.0582482\ttotal: 818ms\tremaining: 3.31s\n",
      "198:\tlearn: 0.0580425\ttotal: 822ms\tremaining: 3.31s\n",
      "199:\tlearn: 0.0578874\ttotal: 826ms\tremaining: 3.3s\n",
      "200:\tlearn: 0.0576426\ttotal: 829ms\tremaining: 3.3s\n",
      "201:\tlearn: 0.0572318\ttotal: 833ms\tremaining: 3.29s\n",
      "202:\tlearn: 0.0570752\ttotal: 837ms\tremaining: 3.28s\n",
      "203:\tlearn: 0.0568127\ttotal: 841ms\tremaining: 3.28s\n",
      "204:\tlearn: 0.0566176\ttotal: 844ms\tremaining: 3.27s\n",
      "205:\tlearn: 0.0560963\ttotal: 848ms\tremaining: 3.27s\n",
      "206:\tlearn: 0.0558208\ttotal: 852ms\tremaining: 3.26s\n",
      "207:\tlearn: 0.0555509\ttotal: 855ms\tremaining: 3.26s\n",
      "208:\tlearn: 0.0554848\ttotal: 859ms\tremaining: 3.25s\n",
      "209:\tlearn: 0.0553600\ttotal: 863ms\tremaining: 3.25s\n",
      "210:\tlearn: 0.0550872\ttotal: 867ms\tremaining: 3.24s\n",
      "211:\tlearn: 0.0548958\ttotal: 871ms\tremaining: 3.24s\n",
      "212:\tlearn: 0.0547357\ttotal: 875ms\tremaining: 3.23s\n",
      "213:\tlearn: 0.0545897\ttotal: 880ms\tremaining: 3.23s\n",
      "214:\tlearn: 0.0544594\ttotal: 884ms\tremaining: 3.23s\n",
      "215:\tlearn: 0.0542336\ttotal: 888ms\tremaining: 3.22s\n",
      "216:\tlearn: 0.0540845\ttotal: 892ms\tremaining: 3.22s\n",
      "217:\tlearn: 0.0539772\ttotal: 895ms\tremaining: 3.21s\n",
      "218:\tlearn: 0.0538798\ttotal: 899ms\tremaining: 3.21s\n",
      "219:\tlearn: 0.0537072\ttotal: 903ms\tremaining: 3.2s\n",
      "220:\tlearn: 0.0535370\ttotal: 906ms\tremaining: 3.19s\n",
      "221:\tlearn: 0.0533445\ttotal: 910ms\tremaining: 3.19s\n",
      "222:\tlearn: 0.0531722\ttotal: 913ms\tremaining: 3.18s\n",
      "223:\tlearn: 0.0529402\ttotal: 917ms\tremaining: 3.18s\n",
      "224:\tlearn: 0.0528781\ttotal: 920ms\tremaining: 3.17s\n",
      "225:\tlearn: 0.0528072\ttotal: 924ms\tremaining: 3.16s\n",
      "226:\tlearn: 0.0525462\ttotal: 928ms\tremaining: 3.16s\n",
      "227:\tlearn: 0.0522829\ttotal: 932ms\tremaining: 3.15s\n",
      "228:\tlearn: 0.0521705\ttotal: 935ms\tremaining: 3.15s\n",
      "229:\tlearn: 0.0520781\ttotal: 939ms\tremaining: 3.14s\n",
      "230:\tlearn: 0.0519307\ttotal: 943ms\tremaining: 3.14s\n",
      "231:\tlearn: 0.0518167\ttotal: 946ms\tremaining: 3.13s\n",
      "232:\tlearn: 0.0516600\ttotal: 950ms\tremaining: 3.13s\n",
      "233:\tlearn: 0.0514965\ttotal: 954ms\tremaining: 3.12s\n",
      "234:\tlearn: 0.0513358\ttotal: 958ms\tremaining: 3.12s\n",
      "235:\tlearn: 0.0512516\ttotal: 962ms\tremaining: 3.11s\n",
      "236:\tlearn: 0.0511044\ttotal: 966ms\tremaining: 3.11s\n",
      "237:\tlearn: 0.0509904\ttotal: 970ms\tremaining: 3.1s\n",
      "238:\tlearn: 0.0507832\ttotal: 973ms\tremaining: 3.1s\n",
      "239:\tlearn: 0.0505821\ttotal: 977ms\tremaining: 3.09s\n",
      "240:\tlearn: 0.0501410\ttotal: 981ms\tremaining: 3.09s\n",
      "241:\tlearn: 0.0499421\ttotal: 985ms\tremaining: 3.09s\n",
      "242:\tlearn: 0.0494629\ttotal: 990ms\tremaining: 3.08s\n",
      "243:\tlearn: 0.0492828\ttotal: 994ms\tremaining: 3.08s\n",
      "244:\tlearn: 0.0491574\ttotal: 998ms\tremaining: 3.07s\n",
      "245:\tlearn: 0.0490693\ttotal: 1s\tremaining: 3.07s\n",
      "246:\tlearn: 0.0488746\ttotal: 1s\tremaining: 3.06s\n",
      "247:\tlearn: 0.0485070\ttotal: 1.01s\tremaining: 3.06s\n",
      "248:\tlearn: 0.0479101\ttotal: 1.01s\tremaining: 3.05s\n",
      "249:\tlearn: 0.0478148\ttotal: 1.02s\tremaining: 3.05s\n",
      "250:\tlearn: 0.0476202\ttotal: 1.02s\tremaining: 3.04s\n",
      "251:\tlearn: 0.0474748\ttotal: 1.02s\tremaining: 3.04s\n",
      "252:\tlearn: 0.0472426\ttotal: 1.03s\tremaining: 3.03s\n",
      "253:\tlearn: 0.0470949\ttotal: 1.03s\tremaining: 3.03s\n",
      "254:\tlearn: 0.0468874\ttotal: 1.03s\tremaining: 3.02s\n",
      "255:\tlearn: 0.0468595\ttotal: 1.04s\tremaining: 3.02s\n",
      "256:\tlearn: 0.0466812\ttotal: 1.04s\tremaining: 3.02s\n",
      "257:\tlearn: 0.0465120\ttotal: 1.05s\tremaining: 3.01s\n",
      "258:\tlearn: 0.0461046\ttotal: 1.05s\tremaining: 3s\n",
      "259:\tlearn: 0.0458987\ttotal: 1.05s\tremaining: 3s\n",
      "260:\tlearn: 0.0456998\ttotal: 1.06s\tremaining: 2.99s\n",
      "261:\tlearn: 0.0455744\ttotal: 1.06s\tremaining: 2.99s\n",
      "262:\tlearn: 0.0454787\ttotal: 1.06s\tremaining: 2.98s\n",
      "263:\tlearn: 0.0454342\ttotal: 1.07s\tremaining: 2.98s\n",
      "264:\tlearn: 0.0452451\ttotal: 1.07s\tremaining: 2.97s\n",
      "265:\tlearn: 0.0452096\ttotal: 1.07s\tremaining: 2.97s\n",
      "266:\tlearn: 0.0450656\ttotal: 1.08s\tremaining: 2.96s\n",
      "267:\tlearn: 0.0448311\ttotal: 1.08s\tremaining: 2.96s\n",
      "268:\tlearn: 0.0446719\ttotal: 1.09s\tremaining: 2.95s\n",
      "269:\tlearn: 0.0445382\ttotal: 1.09s\tremaining: 2.95s\n",
      "270:\tlearn: 0.0443474\ttotal: 1.09s\tremaining: 2.94s\n",
      "271:\tlearn: 0.0441690\ttotal: 1.1s\tremaining: 2.94s\n",
      "272:\tlearn: 0.0439508\ttotal: 1.1s\tremaining: 2.94s\n",
      "273:\tlearn: 0.0437159\ttotal: 1.1s\tremaining: 2.93s\n",
      "274:\tlearn: 0.0436488\ttotal: 1.11s\tremaining: 2.92s\n",
      "275:\tlearn: 0.0434189\ttotal: 1.11s\tremaining: 2.92s\n",
      "276:\tlearn: 0.0432286\ttotal: 1.12s\tremaining: 2.91s\n",
      "277:\tlearn: 0.0428926\ttotal: 1.12s\tremaining: 2.91s\n",
      "278:\tlearn: 0.0427687\ttotal: 1.12s\tremaining: 2.9s\n",
      "279:\tlearn: 0.0426559\ttotal: 1.13s\tremaining: 2.9s\n",
      "280:\tlearn: 0.0425484\ttotal: 1.13s\tremaining: 2.9s\n",
      "281:\tlearn: 0.0425042\ttotal: 1.14s\tremaining: 2.89s\n",
      "282:\tlearn: 0.0423826\ttotal: 1.14s\tremaining: 2.89s\n",
      "283:\tlearn: 0.0422442\ttotal: 1.14s\tremaining: 2.88s\n",
      "284:\tlearn: 0.0421603\ttotal: 1.15s\tremaining: 2.88s\n",
      "285:\tlearn: 0.0419187\ttotal: 1.15s\tremaining: 2.87s\n",
      "286:\tlearn: 0.0418204\ttotal: 1.15s\tremaining: 2.87s\n",
      "287:\tlearn: 0.0417498\ttotal: 1.16s\tremaining: 2.86s\n",
      "288:\tlearn: 0.0416576\ttotal: 1.16s\tremaining: 2.86s\n",
      "289:\tlearn: 0.0414246\ttotal: 1.17s\tremaining: 2.85s\n",
      "290:\tlearn: 0.0412452\ttotal: 1.17s\tremaining: 2.85s\n",
      "291:\tlearn: 0.0410099\ttotal: 1.17s\tremaining: 2.84s\n",
      "292:\tlearn: 0.0409315\ttotal: 1.18s\tremaining: 2.84s\n",
      "293:\tlearn: 0.0408417\ttotal: 1.18s\tremaining: 2.83s\n",
      "294:\tlearn: 0.0407042\ttotal: 1.18s\tremaining: 2.83s\n",
      "295:\tlearn: 0.0405439\ttotal: 1.19s\tremaining: 2.82s\n",
      "296:\tlearn: 0.0403584\ttotal: 1.19s\tremaining: 2.82s\n",
      "297:\tlearn: 0.0399772\ttotal: 1.19s\tremaining: 2.81s\n",
      "298:\tlearn: 0.0399442\ttotal: 1.2s\tremaining: 2.81s\n",
      "299:\tlearn: 0.0398595\ttotal: 1.2s\tremaining: 2.8s\n",
      "300:\tlearn: 0.0397336\ttotal: 1.21s\tremaining: 2.8s\n",
      "301:\tlearn: 0.0395906\ttotal: 1.21s\tremaining: 2.8s\n",
      "302:\tlearn: 0.0395160\ttotal: 1.21s\tremaining: 2.79s\n",
      "303:\tlearn: 0.0394820\ttotal: 1.22s\tremaining: 2.79s\n",
      "304:\tlearn: 0.0393446\ttotal: 1.22s\tremaining: 2.78s\n",
      "305:\tlearn: 0.0391483\ttotal: 1.23s\tremaining: 2.78s\n",
      "306:\tlearn: 0.0389286\ttotal: 1.23s\tremaining: 2.77s\n",
      "307:\tlearn: 0.0388421\ttotal: 1.23s\tremaining: 2.77s\n",
      "308:\tlearn: 0.0388296\ttotal: 1.24s\tremaining: 2.76s\n",
      "309:\tlearn: 0.0387033\ttotal: 1.24s\tremaining: 2.76s\n",
      "310:\tlearn: 0.0386476\ttotal: 1.24s\tremaining: 2.75s\n",
      "311:\tlearn: 0.0385750\ttotal: 1.25s\tremaining: 2.75s\n",
      "312:\tlearn: 0.0384903\ttotal: 1.25s\tremaining: 2.75s\n",
      "313:\tlearn: 0.0383042\ttotal: 1.26s\tremaining: 2.74s\n",
      "314:\tlearn: 0.0382001\ttotal: 1.26s\tremaining: 2.74s\n",
      "315:\tlearn: 0.0380321\ttotal: 1.26s\tremaining: 2.73s\n",
      "316:\tlearn: 0.0378253\ttotal: 1.27s\tremaining: 2.73s\n",
      "317:\tlearn: 0.0377051\ttotal: 1.27s\tremaining: 2.73s\n",
      "318:\tlearn: 0.0375932\ttotal: 1.27s\tremaining: 2.72s\n",
      "319:\tlearn: 0.0375326\ttotal: 1.28s\tremaining: 2.72s\n",
      "320:\tlearn: 0.0374773\ttotal: 1.28s\tremaining: 2.71s\n",
      "321:\tlearn: 0.0374464\ttotal: 1.28s\tremaining: 2.71s\n",
      "322:\tlearn: 0.0373210\ttotal: 1.29s\tremaining: 2.7s\n",
      "323:\tlearn: 0.0372630\ttotal: 1.29s\tremaining: 2.7s\n",
      "324:\tlearn: 0.0371637\ttotal: 1.3s\tremaining: 2.69s\n",
      "325:\tlearn: 0.0370492\ttotal: 1.3s\tremaining: 2.69s\n",
      "326:\tlearn: 0.0368744\ttotal: 1.3s\tremaining: 2.69s\n",
      "327:\tlearn: 0.0367936\ttotal: 1.31s\tremaining: 2.68s\n",
      "328:\tlearn: 0.0367145\ttotal: 1.31s\tremaining: 2.68s\n",
      "329:\tlearn: 0.0366166\ttotal: 1.32s\tremaining: 2.67s\n",
      "330:\tlearn: 0.0363762\ttotal: 1.32s\tremaining: 2.67s\n",
      "331:\tlearn: 0.0362024\ttotal: 1.32s\tremaining: 2.67s\n",
      "332:\tlearn: 0.0360821\ttotal: 1.33s\tremaining: 2.66s\n",
      "333:\tlearn: 0.0360285\ttotal: 1.33s\tremaining: 2.66s\n",
      "334:\tlearn: 0.0359417\ttotal: 1.33s\tremaining: 2.65s\n",
      "335:\tlearn: 0.0358947\ttotal: 1.34s\tremaining: 2.65s\n",
      "336:\tlearn: 0.0355303\ttotal: 1.34s\tremaining: 2.64s\n",
      "337:\tlearn: 0.0354619\ttotal: 1.35s\tremaining: 2.64s\n",
      "338:\tlearn: 0.0353209\ttotal: 1.35s\tremaining: 2.63s\n",
      "339:\tlearn: 0.0352925\ttotal: 1.35s\tremaining: 2.63s\n",
      "340:\tlearn: 0.0351978\ttotal: 1.36s\tremaining: 2.62s\n",
      "341:\tlearn: 0.0348207\ttotal: 1.36s\tremaining: 2.62s\n",
      "342:\tlearn: 0.0347039\ttotal: 1.36s\tremaining: 2.61s\n",
      "343:\tlearn: 0.0345082\ttotal: 1.37s\tremaining: 2.61s\n",
      "344:\tlearn: 0.0343995\ttotal: 1.37s\tremaining: 2.61s\n",
      "345:\tlearn: 0.0342394\ttotal: 1.38s\tremaining: 2.6s\n",
      "346:\tlearn: 0.0341860\ttotal: 1.38s\tremaining: 2.6s\n",
      "347:\tlearn: 0.0340750\ttotal: 1.38s\tremaining: 2.59s\n",
      "348:\tlearn: 0.0338885\ttotal: 1.39s\tremaining: 2.59s\n",
      "349:\tlearn: 0.0337643\ttotal: 1.39s\tremaining: 2.58s\n",
      "350:\tlearn: 0.0336374\ttotal: 1.39s\tremaining: 2.58s\n",
      "351:\tlearn: 0.0335267\ttotal: 1.4s\tremaining: 2.57s\n",
      "352:\tlearn: 0.0334875\ttotal: 1.4s\tremaining: 2.57s\n",
      "353:\tlearn: 0.0334344\ttotal: 1.41s\tremaining: 2.56s\n",
      "354:\tlearn: 0.0333474\ttotal: 1.41s\tremaining: 2.56s\n",
      "355:\tlearn: 0.0332688\ttotal: 1.41s\tremaining: 2.56s\n",
      "356:\tlearn: 0.0331808\ttotal: 1.42s\tremaining: 2.55s\n"
     ]
    },
    {
     "name": "stdout",
     "output_type": "stream",
     "text": [
      "357:\tlearn: 0.0331101\ttotal: 1.42s\tremaining: 2.55s\n",
      "358:\tlearn: 0.0330446\ttotal: 1.43s\tremaining: 2.55s\n",
      "359:\tlearn: 0.0328949\ttotal: 1.43s\tremaining: 2.54s\n",
      "360:\tlearn: 0.0327450\ttotal: 1.43s\tremaining: 2.54s\n",
      "361:\tlearn: 0.0326663\ttotal: 1.44s\tremaining: 2.53s\n",
      "362:\tlearn: 0.0326311\ttotal: 1.44s\tremaining: 2.53s\n",
      "363:\tlearn: 0.0325445\ttotal: 1.44s\tremaining: 2.52s\n",
      "364:\tlearn: 0.0325164\ttotal: 1.45s\tremaining: 2.52s\n",
      "365:\tlearn: 0.0324372\ttotal: 1.45s\tremaining: 2.51s\n",
      "366:\tlearn: 0.0323267\ttotal: 1.45s\tremaining: 2.51s\n",
      "367:\tlearn: 0.0321828\ttotal: 1.46s\tremaining: 2.5s\n",
      "368:\tlearn: 0.0321183\ttotal: 1.46s\tremaining: 2.5s\n",
      "369:\tlearn: 0.0320306\ttotal: 1.47s\tremaining: 2.5s\n",
      "370:\tlearn: 0.0319042\ttotal: 1.47s\tremaining: 2.49s\n",
      "371:\tlearn: 0.0318110\ttotal: 1.47s\tremaining: 2.49s\n",
      "372:\tlearn: 0.0317321\ttotal: 1.48s\tremaining: 2.48s\n",
      "373:\tlearn: 0.0316374\ttotal: 1.48s\tremaining: 2.48s\n",
      "374:\tlearn: 0.0315519\ttotal: 1.49s\tremaining: 2.48s\n",
      "375:\tlearn: 0.0314811\ttotal: 1.49s\tremaining: 2.47s\n",
      "376:\tlearn: 0.0314490\ttotal: 1.49s\tremaining: 2.46s\n",
      "377:\tlearn: 0.0313423\ttotal: 1.5s\tremaining: 2.46s\n",
      "378:\tlearn: 0.0312805\ttotal: 1.5s\tremaining: 2.46s\n",
      "379:\tlearn: 0.0311407\ttotal: 1.5s\tremaining: 2.45s\n",
      "380:\tlearn: 0.0310721\ttotal: 1.51s\tremaining: 2.45s\n",
      "381:\tlearn: 0.0310031\ttotal: 1.51s\tremaining: 2.44s\n",
      "382:\tlearn: 0.0309380\ttotal: 1.51s\tremaining: 2.44s\n",
      "383:\tlearn: 0.0308758\ttotal: 1.52s\tremaining: 2.44s\n",
      "384:\tlearn: 0.0307722\ttotal: 1.52s\tremaining: 2.43s\n",
      "385:\tlearn: 0.0306331\ttotal: 1.52s\tremaining: 2.43s\n",
      "386:\tlearn: 0.0305637\ttotal: 1.53s\tremaining: 2.42s\n",
      "387:\tlearn: 0.0304871\ttotal: 1.53s\tremaining: 2.42s\n",
      "388:\tlearn: 0.0303339\ttotal: 1.54s\tremaining: 2.41s\n",
      "389:\tlearn: 0.0302417\ttotal: 1.54s\tremaining: 2.41s\n",
      "390:\tlearn: 0.0301468\ttotal: 1.54s\tremaining: 2.4s\n",
      "391:\tlearn: 0.0300672\ttotal: 1.55s\tremaining: 2.4s\n",
      "392:\tlearn: 0.0299699\ttotal: 1.55s\tremaining: 2.4s\n",
      "393:\tlearn: 0.0299265\ttotal: 1.55s\tremaining: 2.39s\n",
      "394:\tlearn: 0.0298919\ttotal: 1.56s\tremaining: 2.39s\n",
      "395:\tlearn: 0.0298228\ttotal: 1.56s\tremaining: 2.38s\n",
      "396:\tlearn: 0.0297665\ttotal: 1.56s\tremaining: 2.38s\n",
      "397:\tlearn: 0.0296980\ttotal: 1.57s\tremaining: 2.37s\n",
      "398:\tlearn: 0.0295911\ttotal: 1.57s\tremaining: 2.37s\n",
      "399:\tlearn: 0.0295151\ttotal: 1.58s\tremaining: 2.36s\n",
      "400:\tlearn: 0.0294689\ttotal: 1.58s\tremaining: 2.36s\n",
      "401:\tlearn: 0.0293483\ttotal: 1.58s\tremaining: 2.35s\n",
      "402:\tlearn: 0.0292791\ttotal: 1.59s\tremaining: 2.35s\n",
      "403:\tlearn: 0.0292159\ttotal: 1.59s\tremaining: 2.35s\n",
      "404:\tlearn: 0.0291484\ttotal: 1.59s\tremaining: 2.34s\n",
      "405:\tlearn: 0.0291015\ttotal: 1.6s\tremaining: 2.34s\n",
      "406:\tlearn: 0.0289778\ttotal: 1.6s\tremaining: 2.33s\n",
      "407:\tlearn: 0.0288219\ttotal: 1.6s\tremaining: 2.33s\n",
      "408:\tlearn: 0.0287344\ttotal: 1.61s\tremaining: 2.32s\n",
      "409:\tlearn: 0.0286097\ttotal: 1.61s\tremaining: 2.32s\n",
      "410:\tlearn: 0.0285725\ttotal: 1.62s\tremaining: 2.32s\n",
      "411:\tlearn: 0.0285220\ttotal: 1.62s\tremaining: 2.31s\n",
      "412:\tlearn: 0.0284648\ttotal: 1.63s\tremaining: 2.31s\n",
      "413:\tlearn: 0.0283927\ttotal: 1.63s\tremaining: 2.31s\n",
      "414:\tlearn: 0.0283335\ttotal: 1.63s\tremaining: 2.3s\n",
      "415:\tlearn: 0.0282348\ttotal: 1.64s\tremaining: 2.3s\n",
      "416:\tlearn: 0.0282046\ttotal: 1.64s\tremaining: 2.29s\n",
      "417:\tlearn: 0.0281806\ttotal: 1.64s\tremaining: 2.29s\n",
      "418:\tlearn: 0.0279982\ttotal: 1.65s\tremaining: 2.28s\n",
      "419:\tlearn: 0.0279621\ttotal: 1.65s\tremaining: 2.28s\n",
      "420:\tlearn: 0.0279219\ttotal: 1.66s\tremaining: 2.28s\n",
      "421:\tlearn: 0.0278699\ttotal: 1.66s\tremaining: 2.27s\n",
      "422:\tlearn: 0.0278294\ttotal: 1.66s\tremaining: 2.27s\n",
      "423:\tlearn: 0.0277490\ttotal: 1.67s\tremaining: 2.26s\n",
      "424:\tlearn: 0.0276466\ttotal: 1.67s\tremaining: 2.26s\n",
      "425:\tlearn: 0.0275055\ttotal: 1.67s\tremaining: 2.25s\n",
      "426:\tlearn: 0.0274340\ttotal: 1.68s\tremaining: 2.25s\n",
      "427:\tlearn: 0.0273852\ttotal: 1.68s\tremaining: 2.25s\n",
      "428:\tlearn: 0.0273178\ttotal: 1.69s\tremaining: 2.24s\n",
      "429:\tlearn: 0.0272821\ttotal: 1.69s\tremaining: 2.24s\n",
      "430:\tlearn: 0.0271739\ttotal: 1.69s\tremaining: 2.23s\n",
      "431:\tlearn: 0.0271168\ttotal: 1.7s\tremaining: 2.23s\n",
      "432:\tlearn: 0.0268754\ttotal: 1.7s\tremaining: 2.23s\n",
      "433:\tlearn: 0.0268051\ttotal: 1.7s\tremaining: 2.22s\n",
      "434:\tlearn: 0.0267218\ttotal: 1.71s\tremaining: 2.22s\n",
      "435:\tlearn: 0.0266754\ttotal: 1.71s\tremaining: 2.21s\n",
      "436:\tlearn: 0.0265827\ttotal: 1.72s\tremaining: 2.21s\n",
      "437:\tlearn: 0.0265207\ttotal: 1.72s\tremaining: 2.21s\n",
      "438:\tlearn: 0.0264645\ttotal: 1.72s\tremaining: 2.2s\n",
      "439:\tlearn: 0.0263937\ttotal: 1.73s\tremaining: 2.2s\n",
      "440:\tlearn: 0.0262964\ttotal: 1.73s\tremaining: 2.19s\n",
      "441:\tlearn: 0.0262087\ttotal: 1.73s\tremaining: 2.19s\n",
      "442:\tlearn: 0.0261641\ttotal: 1.74s\tremaining: 2.19s\n",
      "443:\tlearn: 0.0261096\ttotal: 1.74s\tremaining: 2.18s\n",
      "444:\tlearn: 0.0260476\ttotal: 1.75s\tremaining: 2.18s\n",
      "445:\tlearn: 0.0260068\ttotal: 1.75s\tremaining: 2.17s\n",
      "446:\tlearn: 0.0259180\ttotal: 1.75s\tremaining: 2.17s\n",
      "447:\tlearn: 0.0258304\ttotal: 1.76s\tremaining: 2.17s\n",
      "448:\tlearn: 0.0256471\ttotal: 1.76s\tremaining: 2.16s\n",
      "449:\tlearn: 0.0255845\ttotal: 1.76s\tremaining: 2.16s\n",
      "450:\tlearn: 0.0255333\ttotal: 1.77s\tremaining: 2.15s\n",
      "451:\tlearn: 0.0254850\ttotal: 1.77s\tremaining: 2.15s\n",
      "452:\tlearn: 0.0254216\ttotal: 1.77s\tremaining: 2.14s\n",
      "453:\tlearn: 0.0253769\ttotal: 1.78s\tremaining: 2.14s\n",
      "454:\tlearn: 0.0253535\ttotal: 1.78s\tremaining: 2.13s\n",
      "455:\tlearn: 0.0253260\ttotal: 1.79s\tremaining: 2.13s\n",
      "456:\tlearn: 0.0253215\ttotal: 1.79s\tremaining: 2.13s\n",
      "457:\tlearn: 0.0252967\ttotal: 1.79s\tremaining: 2.12s\n",
      "458:\tlearn: 0.0252385\ttotal: 1.8s\tremaining: 2.12s\n",
      "459:\tlearn: 0.0250832\ttotal: 1.8s\tremaining: 2.11s\n",
      "460:\tlearn: 0.0250299\ttotal: 1.8s\tremaining: 2.11s\n",
      "461:\tlearn: 0.0249672\ttotal: 1.81s\tremaining: 2.11s\n",
      "462:\tlearn: 0.0249213\ttotal: 1.81s\tremaining: 2.1s\n",
      "463:\tlearn: 0.0248431\ttotal: 1.82s\tremaining: 2.1s\n",
      "464:\tlearn: 0.0248030\ttotal: 1.82s\tremaining: 2.1s\n",
      "465:\tlearn: 0.0247127\ttotal: 1.82s\tremaining: 2.09s\n",
      "466:\tlearn: 0.0246674\ttotal: 1.83s\tremaining: 2.09s\n",
      "467:\tlearn: 0.0246089\ttotal: 1.83s\tremaining: 2.08s\n",
      "468:\tlearn: 0.0244968\ttotal: 1.84s\tremaining: 2.08s\n",
      "469:\tlearn: 0.0244478\ttotal: 1.84s\tremaining: 2.08s\n",
      "470:\tlearn: 0.0243683\ttotal: 1.85s\tremaining: 2.07s\n",
      "471:\tlearn: 0.0243146\ttotal: 1.85s\tremaining: 2.07s\n",
      "472:\tlearn: 0.0242134\ttotal: 1.85s\tremaining: 2.06s\n",
      "473:\tlearn: 0.0241328\ttotal: 1.86s\tremaining: 2.06s\n",
      "474:\tlearn: 0.0240734\ttotal: 1.86s\tremaining: 2.06s\n",
      "475:\tlearn: 0.0239892\ttotal: 1.86s\tremaining: 2.05s\n",
      "476:\tlearn: 0.0238422\ttotal: 1.87s\tremaining: 2.05s\n",
      "477:\tlearn: 0.0238033\ttotal: 1.87s\tremaining: 2.04s\n",
      "478:\tlearn: 0.0237457\ttotal: 1.88s\tremaining: 2.04s\n",
      "479:\tlearn: 0.0236834\ttotal: 1.88s\tremaining: 2.04s\n",
      "480:\tlearn: 0.0236433\ttotal: 1.88s\tremaining: 2.03s\n",
      "481:\tlearn: 0.0235919\ttotal: 1.89s\tremaining: 2.03s\n",
      "482:\tlearn: 0.0234751\ttotal: 1.89s\tremaining: 2.02s\n",
      "483:\tlearn: 0.0234184\ttotal: 1.9s\tremaining: 2.02s\n",
      "484:\tlearn: 0.0233933\ttotal: 1.9s\tremaining: 2.02s\n",
      "485:\tlearn: 0.0231730\ttotal: 1.9s\tremaining: 2.01s\n",
      "486:\tlearn: 0.0230957\ttotal: 1.91s\tremaining: 2.01s\n",
      "487:\tlearn: 0.0230688\ttotal: 1.91s\tremaining: 2s\n",
      "488:\tlearn: 0.0230178\ttotal: 1.91s\tremaining: 2s\n",
      "489:\tlearn: 0.0229984\ttotal: 1.92s\tremaining: 2s\n",
      "490:\tlearn: 0.0229693\ttotal: 1.92s\tremaining: 1.99s\n",
      "491:\tlearn: 0.0229132\ttotal: 1.92s\tremaining: 1.99s\n",
      "492:\tlearn: 0.0228474\ttotal: 1.93s\tremaining: 1.98s\n",
      "493:\tlearn: 0.0228007\ttotal: 1.93s\tremaining: 1.98s\n",
      "494:\tlearn: 0.0227468\ttotal: 1.94s\tremaining: 1.98s\n",
      "495:\tlearn: 0.0226798\ttotal: 1.94s\tremaining: 1.97s\n",
      "496:\tlearn: 0.0226369\ttotal: 1.95s\tremaining: 1.97s\n",
      "497:\tlearn: 0.0225803\ttotal: 1.95s\tremaining: 1.97s\n",
      "498:\tlearn: 0.0225209\ttotal: 1.95s\tremaining: 1.96s\n",
      "499:\tlearn: 0.0224135\ttotal: 1.96s\tremaining: 1.96s\n",
      "500:\tlearn: 0.0223556\ttotal: 1.96s\tremaining: 1.95s\n",
      "501:\tlearn: 0.0222146\ttotal: 1.96s\tremaining: 1.95s\n",
      "502:\tlearn: 0.0221732\ttotal: 1.97s\tremaining: 1.95s\n",
      "503:\tlearn: 0.0221670\ttotal: 1.97s\tremaining: 1.94s\n",
      "504:\tlearn: 0.0221205\ttotal: 1.97s\tremaining: 1.94s\n",
      "505:\tlearn: 0.0220785\ttotal: 1.98s\tremaining: 1.93s\n",
      "506:\tlearn: 0.0220089\ttotal: 1.98s\tremaining: 1.93s\n",
      "507:\tlearn: 0.0219418\ttotal: 1.99s\tremaining: 1.92s\n",
      "508:\tlearn: 0.0219009\ttotal: 1.99s\tremaining: 1.92s\n",
      "509:\tlearn: 0.0218503\ttotal: 1.99s\tremaining: 1.91s\n",
      "510:\tlearn: 0.0218124\ttotal: 2s\tremaining: 1.91s\n",
      "511:\tlearn: 0.0217434\ttotal: 2s\tremaining: 1.91s\n",
      "512:\tlearn: 0.0217281\ttotal: 2s\tremaining: 1.9s\n",
      "513:\tlearn: 0.0216406\ttotal: 2.01s\tremaining: 1.9s\n",
      "514:\tlearn: 0.0215843\ttotal: 2.01s\tremaining: 1.89s\n",
      "515:\tlearn: 0.0215487\ttotal: 2.01s\tremaining: 1.89s\n",
      "516:\tlearn: 0.0215064\ttotal: 2.02s\tremaining: 1.89s\n",
      "517:\tlearn: 0.0214408\ttotal: 2.02s\tremaining: 1.88s\n",
      "518:\tlearn: 0.0214007\ttotal: 2.02s\tremaining: 1.88s\n",
      "519:\tlearn: 0.0213455\ttotal: 2.03s\tremaining: 1.87s\n",
      "520:\tlearn: 0.0213067\ttotal: 2.03s\tremaining: 1.87s\n",
      "521:\tlearn: 0.0212537\ttotal: 2.04s\tremaining: 1.86s\n",
      "522:\tlearn: 0.0211579\ttotal: 2.04s\tremaining: 1.86s\n",
      "523:\tlearn: 0.0211002\ttotal: 2.04s\tremaining: 1.86s\n",
      "524:\tlearn: 0.0209773\ttotal: 2.05s\tremaining: 1.85s\n",
      "525:\tlearn: 0.0209591\ttotal: 2.05s\tremaining: 1.85s\n",
      "526:\tlearn: 0.0209358\ttotal: 2.06s\tremaining: 1.84s\n",
      "527:\tlearn: 0.0209032\ttotal: 2.06s\tremaining: 1.84s\n",
      "528:\tlearn: 0.0208653\ttotal: 2.06s\tremaining: 1.84s\n",
      "529:\tlearn: 0.0208395\ttotal: 2.07s\tremaining: 1.83s\n",
      "530:\tlearn: 0.0207803\ttotal: 2.07s\tremaining: 1.83s\n",
      "531:\tlearn: 0.0207406\ttotal: 2.08s\tremaining: 1.83s\n"
     ]
    },
    {
     "name": "stdout",
     "output_type": "stream",
     "text": [
      "532:\tlearn: 0.0206966\ttotal: 2.08s\tremaining: 1.82s\n",
      "533:\tlearn: 0.0206651\ttotal: 2.08s\tremaining: 1.82s\n",
      "534:\tlearn: 0.0206174\ttotal: 2.09s\tremaining: 1.81s\n",
      "535:\tlearn: 0.0205496\ttotal: 2.09s\tremaining: 1.81s\n",
      "536:\tlearn: 0.0205111\ttotal: 2.09s\tremaining: 1.8s\n",
      "537:\tlearn: 0.0204823\ttotal: 2.1s\tremaining: 1.8s\n",
      "538:\tlearn: 0.0203895\ttotal: 2.1s\tremaining: 1.8s\n",
      "539:\tlearn: 0.0203682\ttotal: 2.1s\tremaining: 1.79s\n",
      "540:\tlearn: 0.0203349\ttotal: 2.11s\tremaining: 1.79s\n",
      "541:\tlearn: 0.0202915\ttotal: 2.11s\tremaining: 1.78s\n",
      "542:\tlearn: 0.0202477\ttotal: 2.12s\tremaining: 1.78s\n",
      "543:\tlearn: 0.0202177\ttotal: 2.12s\tremaining: 1.78s\n",
      "544:\tlearn: 0.0201590\ttotal: 2.12s\tremaining: 1.77s\n",
      "545:\tlearn: 0.0200994\ttotal: 2.13s\tremaining: 1.77s\n",
      "546:\tlearn: 0.0200861\ttotal: 2.13s\tremaining: 1.76s\n",
      "547:\tlearn: 0.0200205\ttotal: 2.13s\tremaining: 1.76s\n",
      "548:\tlearn: 0.0199384\ttotal: 2.14s\tremaining: 1.76s\n",
      "549:\tlearn: 0.0199076\ttotal: 2.14s\tremaining: 1.75s\n",
      "550:\tlearn: 0.0198545\ttotal: 2.15s\tremaining: 1.75s\n",
      "551:\tlearn: 0.0198414\ttotal: 2.15s\tremaining: 1.75s\n",
      "552:\tlearn: 0.0197921\ttotal: 2.15s\tremaining: 1.74s\n",
      "553:\tlearn: 0.0197368\ttotal: 2.16s\tremaining: 1.74s\n",
      "554:\tlearn: 0.0197006\ttotal: 2.16s\tremaining: 1.73s\n",
      "555:\tlearn: 0.0196825\ttotal: 2.17s\tremaining: 1.73s\n",
      "556:\tlearn: 0.0196486\ttotal: 2.17s\tremaining: 1.73s\n",
      "557:\tlearn: 0.0196089\ttotal: 2.17s\tremaining: 1.72s\n",
      "558:\tlearn: 0.0195588\ttotal: 2.18s\tremaining: 1.72s\n",
      "559:\tlearn: 0.0195120\ttotal: 2.18s\tremaining: 1.71s\n",
      "560:\tlearn: 0.0194414\ttotal: 2.19s\tremaining: 1.71s\n",
      "561:\tlearn: 0.0194118\ttotal: 2.19s\tremaining: 1.71s\n",
      "562:\tlearn: 0.0193070\ttotal: 2.19s\tremaining: 1.7s\n",
      "563:\tlearn: 0.0192093\ttotal: 2.2s\tremaining: 1.7s\n",
      "564:\tlearn: 0.0191504\ttotal: 2.2s\tremaining: 1.69s\n",
      "565:\tlearn: 0.0191140\ttotal: 2.2s\tremaining: 1.69s\n",
      "566:\tlearn: 0.0190890\ttotal: 2.21s\tremaining: 1.69s\n",
      "567:\tlearn: 0.0190391\ttotal: 2.21s\tremaining: 1.68s\n",
      "568:\tlearn: 0.0190000\ttotal: 2.21s\tremaining: 1.68s\n",
      "569:\tlearn: 0.0189861\ttotal: 2.22s\tremaining: 1.67s\n",
      "570:\tlearn: 0.0189401\ttotal: 2.22s\tremaining: 1.67s\n",
      "571:\tlearn: 0.0189242\ttotal: 2.23s\tremaining: 1.67s\n",
      "572:\tlearn: 0.0189023\ttotal: 2.23s\tremaining: 1.66s\n",
      "573:\tlearn: 0.0188554\ttotal: 2.23s\tremaining: 1.66s\n",
      "574:\tlearn: 0.0188360\ttotal: 2.24s\tremaining: 1.65s\n",
      "575:\tlearn: 0.0187780\ttotal: 2.24s\tremaining: 1.65s\n",
      "576:\tlearn: 0.0187397\ttotal: 2.24s\tremaining: 1.65s\n",
      "577:\tlearn: 0.0186886\ttotal: 2.25s\tremaining: 1.64s\n",
      "578:\tlearn: 0.0186585\ttotal: 2.25s\tremaining: 1.64s\n",
      "579:\tlearn: 0.0186134\ttotal: 2.26s\tremaining: 1.63s\n",
      "580:\tlearn: 0.0185660\ttotal: 2.26s\tremaining: 1.63s\n",
      "581:\tlearn: 0.0185399\ttotal: 2.26s\tremaining: 1.63s\n",
      "582:\tlearn: 0.0185226\ttotal: 2.27s\tremaining: 1.62s\n",
      "583:\tlearn: 0.0185010\ttotal: 2.27s\tremaining: 1.62s\n",
      "584:\tlearn: 0.0184503\ttotal: 2.27s\tremaining: 1.61s\n",
      "585:\tlearn: 0.0183715\ttotal: 2.28s\tremaining: 1.61s\n",
      "586:\tlearn: 0.0183027\ttotal: 2.28s\tremaining: 1.6s\n",
      "587:\tlearn: 0.0182613\ttotal: 2.29s\tremaining: 1.6s\n",
      "588:\tlearn: 0.0182199\ttotal: 2.29s\tremaining: 1.6s\n",
      "589:\tlearn: 0.0182106\ttotal: 2.29s\tremaining: 1.59s\n",
      "590:\tlearn: 0.0181812\ttotal: 2.3s\tremaining: 1.59s\n",
      "591:\tlearn: 0.0181675\ttotal: 2.3s\tremaining: 1.58s\n",
      "592:\tlearn: 0.0181299\ttotal: 2.3s\tremaining: 1.58s\n",
      "593:\tlearn: 0.0181128\ttotal: 2.31s\tremaining: 1.58s\n",
      "594:\tlearn: 0.0180841\ttotal: 2.31s\tremaining: 1.57s\n",
      "595:\tlearn: 0.0180595\ttotal: 2.32s\tremaining: 1.57s\n",
      "596:\tlearn: 0.0180223\ttotal: 2.32s\tremaining: 1.57s\n",
      "597:\tlearn: 0.0179895\ttotal: 2.32s\tremaining: 1.56s\n",
      "598:\tlearn: 0.0179398\ttotal: 2.33s\tremaining: 1.56s\n",
      "599:\tlearn: 0.0178902\ttotal: 2.33s\tremaining: 1.55s\n",
      "600:\tlearn: 0.0178651\ttotal: 2.33s\tremaining: 1.55s\n",
      "601:\tlearn: 0.0178471\ttotal: 2.34s\tremaining: 1.55s\n",
      "602:\tlearn: 0.0178137\ttotal: 2.34s\tremaining: 1.54s\n",
      "603:\tlearn: 0.0177860\ttotal: 2.35s\tremaining: 1.54s\n",
      "604:\tlearn: 0.0177456\ttotal: 2.35s\tremaining: 1.53s\n",
      "605:\tlearn: 0.0176403\ttotal: 2.35s\tremaining: 1.53s\n",
      "606:\tlearn: 0.0176122\ttotal: 2.36s\tremaining: 1.53s\n",
      "607:\tlearn: 0.0175755\ttotal: 2.36s\tremaining: 1.52s\n",
      "608:\tlearn: 0.0175349\ttotal: 2.37s\tremaining: 1.52s\n",
      "609:\tlearn: 0.0175095\ttotal: 2.37s\tremaining: 1.51s\n",
      "610:\tlearn: 0.0174911\ttotal: 2.37s\tremaining: 1.51s\n",
      "611:\tlearn: 0.0174778\ttotal: 2.38s\tremaining: 1.51s\n",
      "612:\tlearn: 0.0174337\ttotal: 2.38s\tremaining: 1.5s\n",
      "613:\tlearn: 0.0174116\ttotal: 2.38s\tremaining: 1.5s\n",
      "614:\tlearn: 0.0173606\ttotal: 2.39s\tremaining: 1.49s\n",
      "615:\tlearn: 0.0173294\ttotal: 2.39s\tremaining: 1.49s\n",
      "616:\tlearn: 0.0172817\ttotal: 2.4s\tremaining: 1.49s\n",
      "617:\tlearn: 0.0172746\ttotal: 2.41s\tremaining: 1.49s\n",
      "618:\tlearn: 0.0172571\ttotal: 2.41s\tremaining: 1.48s\n",
      "619:\tlearn: 0.0172322\ttotal: 2.42s\tremaining: 1.48s\n",
      "620:\tlearn: 0.0172023\ttotal: 2.42s\tremaining: 1.48s\n",
      "621:\tlearn: 0.0171717\ttotal: 2.42s\tremaining: 1.47s\n",
      "622:\tlearn: 0.0170998\ttotal: 2.43s\tremaining: 1.47s\n",
      "623:\tlearn: 0.0170996\ttotal: 2.43s\tremaining: 1.46s\n",
      "624:\tlearn: 0.0170633\ttotal: 2.43s\tremaining: 1.46s\n",
      "625:\tlearn: 0.0170315\ttotal: 2.44s\tremaining: 1.46s\n",
      "626:\tlearn: 0.0169872\ttotal: 2.44s\tremaining: 1.45s\n",
      "627:\tlearn: 0.0169655\ttotal: 2.44s\tremaining: 1.45s\n",
      "628:\tlearn: 0.0169438\ttotal: 2.45s\tremaining: 1.44s\n",
      "629:\tlearn: 0.0169126\ttotal: 2.45s\tremaining: 1.44s\n",
      "630:\tlearn: 0.0168484\ttotal: 2.45s\tremaining: 1.44s\n",
      "631:\tlearn: 0.0168219\ttotal: 2.46s\tremaining: 1.43s\n",
      "632:\tlearn: 0.0167981\ttotal: 2.46s\tremaining: 1.43s\n",
      "633:\tlearn: 0.0167821\ttotal: 2.46s\tremaining: 1.42s\n",
      "634:\tlearn: 0.0167382\ttotal: 2.47s\tremaining: 1.42s\n",
      "635:\tlearn: 0.0166921\ttotal: 2.47s\tremaining: 1.42s\n",
      "636:\tlearn: 0.0166591\ttotal: 2.48s\tremaining: 1.41s\n",
      "637:\tlearn: 0.0166170\ttotal: 2.48s\tremaining: 1.41s\n",
      "638:\tlearn: 0.0165941\ttotal: 2.48s\tremaining: 1.4s\n",
      "639:\tlearn: 0.0165736\ttotal: 2.49s\tremaining: 1.4s\n",
      "640:\tlearn: 0.0165319\ttotal: 2.49s\tremaining: 1.4s\n",
      "641:\tlearn: 0.0165116\ttotal: 2.5s\tremaining: 1.39s\n",
      "642:\tlearn: 0.0165054\ttotal: 2.5s\tremaining: 1.39s\n",
      "643:\tlearn: 0.0164892\ttotal: 2.5s\tremaining: 1.38s\n",
      "644:\tlearn: 0.0164637\ttotal: 2.51s\tremaining: 1.38s\n",
      "645:\tlearn: 0.0164354\ttotal: 2.51s\tremaining: 1.38s\n",
      "646:\tlearn: 0.0164120\ttotal: 2.51s\tremaining: 1.37s\n",
      "647:\tlearn: 0.0163852\ttotal: 2.52s\tremaining: 1.37s\n",
      "648:\tlearn: 0.0163484\ttotal: 2.52s\tremaining: 1.36s\n",
      "649:\tlearn: 0.0163216\ttotal: 2.53s\tremaining: 1.36s\n",
      "650:\tlearn: 0.0162979\ttotal: 2.53s\tremaining: 1.36s\n",
      "651:\tlearn: 0.0162543\ttotal: 2.53s\tremaining: 1.35s\n",
      "652:\tlearn: 0.0162190\ttotal: 2.54s\tremaining: 1.35s\n",
      "653:\tlearn: 0.0161825\ttotal: 2.54s\tremaining: 1.34s\n",
      "654:\tlearn: 0.0161662\ttotal: 2.54s\tremaining: 1.34s\n",
      "655:\tlearn: 0.0161499\ttotal: 2.55s\tremaining: 1.34s\n",
      "656:\tlearn: 0.0161313\ttotal: 2.55s\tremaining: 1.33s\n",
      "657:\tlearn: 0.0161110\ttotal: 2.56s\tremaining: 1.33s\n",
      "658:\tlearn: 0.0161005\ttotal: 2.56s\tremaining: 1.32s\n",
      "659:\tlearn: 0.0160716\ttotal: 2.56s\tremaining: 1.32s\n",
      "660:\tlearn: 0.0160460\ttotal: 2.57s\tremaining: 1.32s\n",
      "661:\tlearn: 0.0160073\ttotal: 2.57s\tremaining: 1.31s\n",
      "662:\tlearn: 0.0159752\ttotal: 2.58s\tremaining: 1.31s\n",
      "663:\tlearn: 0.0159459\ttotal: 2.58s\tremaining: 1.31s\n",
      "664:\tlearn: 0.0158956\ttotal: 2.58s\tremaining: 1.3s\n",
      "665:\tlearn: 0.0158809\ttotal: 2.59s\tremaining: 1.3s\n",
      "666:\tlearn: 0.0158529\ttotal: 2.59s\tremaining: 1.29s\n",
      "667:\tlearn: 0.0158068\ttotal: 2.6s\tremaining: 1.29s\n",
      "668:\tlearn: 0.0157506\ttotal: 2.6s\tremaining: 1.29s\n",
      "669:\tlearn: 0.0157233\ttotal: 2.6s\tremaining: 1.28s\n",
      "670:\tlearn: 0.0156749\ttotal: 2.61s\tremaining: 1.28s\n",
      "671:\tlearn: 0.0156483\ttotal: 2.61s\tremaining: 1.27s\n",
      "672:\tlearn: 0.0156364\ttotal: 2.62s\tremaining: 1.27s\n",
      "673:\tlearn: 0.0156197\ttotal: 2.62s\tremaining: 1.27s\n",
      "674:\tlearn: 0.0155894\ttotal: 2.62s\tremaining: 1.26s\n",
      "675:\tlearn: 0.0155610\ttotal: 2.63s\tremaining: 1.26s\n",
      "676:\tlearn: 0.0155115\ttotal: 2.63s\tremaining: 1.25s\n",
      "677:\tlearn: 0.0154993\ttotal: 2.63s\tremaining: 1.25s\n",
      "678:\tlearn: 0.0154642\ttotal: 2.64s\tremaining: 1.25s\n",
      "679:\tlearn: 0.0154464\ttotal: 2.64s\tremaining: 1.24s\n",
      "680:\tlearn: 0.0154394\ttotal: 2.65s\tremaining: 1.24s\n",
      "681:\tlearn: 0.0153874\ttotal: 2.65s\tremaining: 1.24s\n",
      "682:\tlearn: 0.0153462\ttotal: 2.65s\tremaining: 1.23s\n",
      "683:\tlearn: 0.0152695\ttotal: 2.66s\tremaining: 1.23s\n",
      "684:\tlearn: 0.0152446\ttotal: 2.66s\tremaining: 1.22s\n",
      "685:\tlearn: 0.0151920\ttotal: 2.66s\tremaining: 1.22s\n",
      "686:\tlearn: 0.0151555\ttotal: 2.67s\tremaining: 1.22s\n",
      "687:\tlearn: 0.0151253\ttotal: 2.67s\tremaining: 1.21s\n",
      "688:\tlearn: 0.0151188\ttotal: 2.68s\tremaining: 1.21s\n",
      "689:\tlearn: 0.0150814\ttotal: 2.68s\tremaining: 1.2s\n",
      "690:\tlearn: 0.0150516\ttotal: 2.68s\tremaining: 1.2s\n",
      "691:\tlearn: 0.0150017\ttotal: 2.69s\tremaining: 1.2s\n",
      "692:\tlearn: 0.0149652\ttotal: 2.69s\tremaining: 1.19s\n",
      "693:\tlearn: 0.0149268\ttotal: 2.7s\tremaining: 1.19s\n",
      "694:\tlearn: 0.0149015\ttotal: 2.7s\tremaining: 1.19s\n",
      "695:\tlearn: 0.0148792\ttotal: 2.7s\tremaining: 1.18s\n",
      "696:\tlearn: 0.0148463\ttotal: 2.71s\tremaining: 1.18s\n",
      "697:\tlearn: 0.0148219\ttotal: 2.71s\tremaining: 1.17s\n",
      "698:\tlearn: 0.0147930\ttotal: 2.71s\tremaining: 1.17s\n",
      "699:\tlearn: 0.0147615\ttotal: 2.72s\tremaining: 1.17s\n",
      "700:\tlearn: 0.0147439\ttotal: 2.72s\tremaining: 1.16s\n",
      "701:\tlearn: 0.0147135\ttotal: 2.73s\tremaining: 1.16s\n",
      "702:\tlearn: 0.0147076\ttotal: 2.73s\tremaining: 1.15s\n",
      "703:\tlearn: 0.0146824\ttotal: 2.73s\tremaining: 1.15s\n"
     ]
    },
    {
     "name": "stdout",
     "output_type": "stream",
     "text": [
      "704:\tlearn: 0.0146322\ttotal: 2.74s\tremaining: 1.15s\n",
      "705:\tlearn: 0.0146179\ttotal: 2.74s\tremaining: 1.14s\n",
      "706:\tlearn: 0.0145912\ttotal: 2.75s\tremaining: 1.14s\n",
      "707:\tlearn: 0.0145239\ttotal: 2.75s\tremaining: 1.13s\n",
      "708:\tlearn: 0.0145057\ttotal: 2.75s\tremaining: 1.13s\n",
      "709:\tlearn: 0.0144804\ttotal: 2.75s\tremaining: 1.13s\n",
      "710:\tlearn: 0.0144562\ttotal: 2.76s\tremaining: 1.12s\n",
      "711:\tlearn: 0.0144059\ttotal: 2.76s\tremaining: 1.12s\n",
      "712:\tlearn: 0.0143752\ttotal: 2.77s\tremaining: 1.11s\n",
      "713:\tlearn: 0.0143691\ttotal: 2.77s\tremaining: 1.11s\n",
      "714:\tlearn: 0.0143518\ttotal: 2.77s\tremaining: 1.1s\n",
      "715:\tlearn: 0.0143370\ttotal: 2.78s\tremaining: 1.1s\n",
      "716:\tlearn: 0.0143145\ttotal: 2.78s\tremaining: 1.1s\n",
      "717:\tlearn: 0.0142927\ttotal: 2.78s\tremaining: 1.09s\n",
      "718:\tlearn: 0.0142241\ttotal: 2.79s\tremaining: 1.09s\n",
      "719:\tlearn: 0.0142022\ttotal: 2.79s\tremaining: 1.08s\n",
      "720:\tlearn: 0.0141838\ttotal: 2.79s\tremaining: 1.08s\n",
      "721:\tlearn: 0.0141784\ttotal: 2.8s\tremaining: 1.08s\n",
      "722:\tlearn: 0.0141518\ttotal: 2.8s\tremaining: 1.07s\n",
      "723:\tlearn: 0.0141292\ttotal: 2.81s\tremaining: 1.07s\n",
      "724:\tlearn: 0.0141249\ttotal: 2.82s\tremaining: 1.07s\n",
      "725:\tlearn: 0.0141162\ttotal: 2.82s\tremaining: 1.07s\n",
      "726:\tlearn: 0.0140952\ttotal: 2.83s\tremaining: 1.06s\n",
      "727:\tlearn: 0.0140879\ttotal: 2.83s\tremaining: 1.06s\n",
      "728:\tlearn: 0.0140617\ttotal: 2.83s\tremaining: 1.05s\n",
      "729:\tlearn: 0.0140609\ttotal: 2.84s\tremaining: 1.05s\n",
      "730:\tlearn: 0.0140395\ttotal: 2.84s\tremaining: 1.04s\n",
      "731:\tlearn: 0.0140176\ttotal: 2.85s\tremaining: 1.04s\n",
      "732:\tlearn: 0.0139920\ttotal: 2.85s\tremaining: 1.04s\n",
      "733:\tlearn: 0.0139651\ttotal: 2.85s\tremaining: 1.03s\n",
      "734:\tlearn: 0.0139219\ttotal: 2.86s\tremaining: 1.03s\n",
      "735:\tlearn: 0.0139028\ttotal: 2.86s\tremaining: 1.03s\n",
      "736:\tlearn: 0.0138890\ttotal: 2.86s\tremaining: 1.02s\n",
      "737:\tlearn: 0.0138517\ttotal: 2.87s\tremaining: 1.02s\n",
      "738:\tlearn: 0.0138411\ttotal: 2.87s\tremaining: 1.01s\n",
      "739:\tlearn: 0.0138154\ttotal: 2.87s\tremaining: 1.01s\n",
      "740:\tlearn: 0.0137801\ttotal: 2.88s\tremaining: 1.01s\n",
      "741:\tlearn: 0.0137465\ttotal: 2.88s\tremaining: 1s\n",
      "742:\tlearn: 0.0137228\ttotal: 2.89s\tremaining: 998ms\n",
      "743:\tlearn: 0.0136793\ttotal: 2.89s\tremaining: 994ms\n",
      "744:\tlearn: 0.0136415\ttotal: 2.89s\tremaining: 991ms\n",
      "745:\tlearn: 0.0136271\ttotal: 2.9s\tremaining: 987ms\n",
      "746:\tlearn: 0.0135665\ttotal: 2.9s\tremaining: 983ms\n",
      "747:\tlearn: 0.0135479\ttotal: 2.9s\tremaining: 979ms\n",
      "748:\tlearn: 0.0135295\ttotal: 2.91s\tremaining: 975ms\n",
      "749:\tlearn: 0.0135023\ttotal: 2.91s\tremaining: 971ms\n",
      "750:\tlearn: 0.0134680\ttotal: 2.92s\tremaining: 967ms\n",
      "751:\tlearn: 0.0134337\ttotal: 2.92s\tremaining: 963ms\n",
      "752:\tlearn: 0.0134321\ttotal: 2.92s\tremaining: 959ms\n",
      "753:\tlearn: 0.0134214\ttotal: 2.93s\tremaining: 955ms\n",
      "754:\tlearn: 0.0133843\ttotal: 2.93s\tremaining: 951ms\n",
      "755:\tlearn: 0.0133686\ttotal: 2.93s\tremaining: 947ms\n",
      "756:\tlearn: 0.0133410\ttotal: 2.94s\tremaining: 943ms\n",
      "757:\tlearn: 0.0132920\ttotal: 2.94s\tremaining: 939ms\n",
      "758:\tlearn: 0.0132562\ttotal: 2.94s\tremaining: 935ms\n",
      "759:\tlearn: 0.0132374\ttotal: 2.95s\tremaining: 931ms\n",
      "760:\tlearn: 0.0132116\ttotal: 2.95s\tremaining: 927ms\n",
      "761:\tlearn: 0.0132027\ttotal: 2.96s\tremaining: 923ms\n",
      "762:\tlearn: 0.0131951\ttotal: 2.96s\tremaining: 919ms\n",
      "763:\tlearn: 0.0131836\ttotal: 2.96s\tremaining: 915ms\n",
      "764:\tlearn: 0.0131777\ttotal: 2.97s\tremaining: 911ms\n",
      "765:\tlearn: 0.0131474\ttotal: 2.97s\tremaining: 908ms\n",
      "766:\tlearn: 0.0131125\ttotal: 2.97s\tremaining: 904ms\n",
      "767:\tlearn: 0.0130968\ttotal: 2.98s\tremaining: 900ms\n",
      "768:\tlearn: 0.0130724\ttotal: 2.98s\tremaining: 896ms\n",
      "769:\tlearn: 0.0130498\ttotal: 2.98s\tremaining: 892ms\n",
      "770:\tlearn: 0.0130194\ttotal: 2.99s\tremaining: 888ms\n",
      "771:\tlearn: 0.0129573\ttotal: 2.99s\tremaining: 884ms\n",
      "772:\tlearn: 0.0129246\ttotal: 3s\tremaining: 880ms\n",
      "773:\tlearn: 0.0129076\ttotal: 3s\tremaining: 876ms\n",
      "774:\tlearn: 0.0128923\ttotal: 3s\tremaining: 872ms\n",
      "775:\tlearn: 0.0128381\ttotal: 3.01s\tremaining: 868ms\n",
      "776:\tlearn: 0.0128048\ttotal: 3.01s\tremaining: 864ms\n",
      "777:\tlearn: 0.0127815\ttotal: 3.01s\tremaining: 860ms\n",
      "778:\tlearn: 0.0127574\ttotal: 3.02s\tremaining: 856ms\n",
      "779:\tlearn: 0.0127288\ttotal: 3.02s\tremaining: 853ms\n",
      "780:\tlearn: 0.0127212\ttotal: 3.03s\tremaining: 849ms\n",
      "781:\tlearn: 0.0126982\ttotal: 3.03s\tremaining: 845ms\n",
      "782:\tlearn: 0.0126810\ttotal: 3.03s\tremaining: 841ms\n",
      "783:\tlearn: 0.0126473\ttotal: 3.04s\tremaining: 837ms\n",
      "784:\tlearn: 0.0126293\ttotal: 3.04s\tremaining: 833ms\n",
      "785:\tlearn: 0.0125806\ttotal: 3.04s\tremaining: 829ms\n",
      "786:\tlearn: 0.0125617\ttotal: 3.05s\tremaining: 825ms\n",
      "787:\tlearn: 0.0125495\ttotal: 3.05s\tremaining: 821ms\n",
      "788:\tlearn: 0.0125303\ttotal: 3.06s\tremaining: 817ms\n",
      "789:\tlearn: 0.0125067\ttotal: 3.06s\tremaining: 814ms\n",
      "790:\tlearn: 0.0124839\ttotal: 3.06s\tremaining: 810ms\n",
      "791:\tlearn: 0.0124688\ttotal: 3.07s\tremaining: 806ms\n",
      "792:\tlearn: 0.0124507\ttotal: 3.07s\tremaining: 802ms\n",
      "793:\tlearn: 0.0124157\ttotal: 3.07s\tremaining: 798ms\n",
      "794:\tlearn: 0.0123979\ttotal: 3.08s\tremaining: 794ms\n",
      "795:\tlearn: 0.0123530\ttotal: 3.08s\tremaining: 790ms\n",
      "796:\tlearn: 0.0123303\ttotal: 3.08s\tremaining: 786ms\n",
      "797:\tlearn: 0.0123045\ttotal: 3.09s\tremaining: 782ms\n",
      "798:\tlearn: 0.0122885\ttotal: 3.09s\tremaining: 778ms\n",
      "799:\tlearn: 0.0122823\ttotal: 3.1s\tremaining: 774ms\n",
      "800:\tlearn: 0.0122625\ttotal: 3.1s\tremaining: 770ms\n",
      "801:\tlearn: 0.0122463\ttotal: 3.1s\tremaining: 766ms\n",
      "802:\tlearn: 0.0122071\ttotal: 3.11s\tremaining: 762ms\n",
      "803:\tlearn: 0.0121835\ttotal: 3.11s\tremaining: 758ms\n",
      "804:\tlearn: 0.0121704\ttotal: 3.11s\tremaining: 754ms\n",
      "805:\tlearn: 0.0121517\ttotal: 3.12s\tremaining: 750ms\n",
      "806:\tlearn: 0.0121459\ttotal: 3.12s\tremaining: 747ms\n",
      "807:\tlearn: 0.0121339\ttotal: 3.13s\tremaining: 744ms\n",
      "808:\tlearn: 0.0121221\ttotal: 3.13s\tremaining: 740ms\n",
      "809:\tlearn: 0.0120866\ttotal: 3.14s\tremaining: 736ms\n",
      "810:\tlearn: 0.0120685\ttotal: 3.14s\tremaining: 732ms\n",
      "811:\tlearn: 0.0120597\ttotal: 3.15s\tremaining: 728ms\n",
      "812:\tlearn: 0.0120386\ttotal: 3.15s\tremaining: 724ms\n",
      "813:\tlearn: 0.0120189\ttotal: 3.15s\tremaining: 720ms\n",
      "814:\tlearn: 0.0120005\ttotal: 3.16s\tremaining: 716ms\n",
      "815:\tlearn: 0.0119882\ttotal: 3.17s\tremaining: 715ms\n",
      "816:\tlearn: 0.0119756\ttotal: 3.18s\tremaining: 711ms\n",
      "817:\tlearn: 0.0119744\ttotal: 3.18s\tremaining: 708ms\n",
      "818:\tlearn: 0.0119635\ttotal: 3.19s\tremaining: 704ms\n",
      "819:\tlearn: 0.0119481\ttotal: 3.19s\tremaining: 701ms\n",
      "820:\tlearn: 0.0119432\ttotal: 3.19s\tremaining: 697ms\n",
      "821:\tlearn: 0.0119260\ttotal: 3.2s\tremaining: 693ms\n",
      "822:\tlearn: 0.0119029\ttotal: 3.2s\tremaining: 689ms\n",
      "823:\tlearn: 0.0118711\ttotal: 3.21s\tremaining: 685ms\n",
      "824:\tlearn: 0.0118446\ttotal: 3.21s\tremaining: 681ms\n",
      "825:\tlearn: 0.0118288\ttotal: 3.21s\tremaining: 677ms\n",
      "826:\tlearn: 0.0118001\ttotal: 3.22s\tremaining: 673ms\n",
      "827:\tlearn: 0.0117856\ttotal: 3.22s\tremaining: 669ms\n",
      "828:\tlearn: 0.0117456\ttotal: 3.23s\tremaining: 665ms\n",
      "829:\tlearn: 0.0117114\ttotal: 3.23s\tremaining: 662ms\n",
      "830:\tlearn: 0.0117013\ttotal: 3.23s\tremaining: 658ms\n",
      "831:\tlearn: 0.0116793\ttotal: 3.24s\tremaining: 654ms\n",
      "832:\tlearn: 0.0116595\ttotal: 3.24s\tremaining: 650ms\n",
      "833:\tlearn: 0.0116376\ttotal: 3.24s\tremaining: 646ms\n",
      "834:\tlearn: 0.0116140\ttotal: 3.25s\tremaining: 642ms\n",
      "835:\tlearn: 0.0116059\ttotal: 3.25s\tremaining: 638ms\n",
      "836:\tlearn: 0.0115608\ttotal: 3.25s\tremaining: 634ms\n",
      "837:\tlearn: 0.0115417\ttotal: 3.26s\tremaining: 630ms\n",
      "838:\tlearn: 0.0115344\ttotal: 3.26s\tremaining: 626ms\n",
      "839:\tlearn: 0.0114853\ttotal: 3.27s\tremaining: 622ms\n",
      "840:\tlearn: 0.0114700\ttotal: 3.27s\tremaining: 618ms\n",
      "841:\tlearn: 0.0114478\ttotal: 3.27s\tremaining: 614ms\n",
      "842:\tlearn: 0.0114322\ttotal: 3.28s\tremaining: 610ms\n",
      "843:\tlearn: 0.0114167\ttotal: 3.28s\tremaining: 606ms\n",
      "844:\tlearn: 0.0114010\ttotal: 3.28s\tremaining: 603ms\n",
      "845:\tlearn: 0.0113939\ttotal: 3.29s\tremaining: 598ms\n",
      "846:\tlearn: 0.0113617\ttotal: 3.29s\tremaining: 595ms\n",
      "847:\tlearn: 0.0113476\ttotal: 3.29s\tremaining: 591ms\n",
      "848:\tlearn: 0.0112935\ttotal: 3.3s\tremaining: 587ms\n",
      "849:\tlearn: 0.0112767\ttotal: 3.3s\tremaining: 583ms\n",
      "850:\tlearn: 0.0112584\ttotal: 3.3s\tremaining: 579ms\n",
      "851:\tlearn: 0.0112369\ttotal: 3.31s\tremaining: 575ms\n",
      "852:\tlearn: 0.0112232\ttotal: 3.31s\tremaining: 571ms\n",
      "853:\tlearn: 0.0112192\ttotal: 3.31s\tremaining: 567ms\n",
      "854:\tlearn: 0.0112082\ttotal: 3.32s\tremaining: 563ms\n",
      "855:\tlearn: 0.0111880\ttotal: 3.32s\tremaining: 559ms\n",
      "856:\tlearn: 0.0111305\ttotal: 3.33s\tremaining: 555ms\n",
      "857:\tlearn: 0.0111146\ttotal: 3.33s\tremaining: 551ms\n",
      "858:\tlearn: 0.0110870\ttotal: 3.33s\tremaining: 547ms\n",
      "859:\tlearn: 0.0110619\ttotal: 3.34s\tremaining: 543ms\n",
      "860:\tlearn: 0.0110215\ttotal: 3.34s\tremaining: 539ms\n",
      "861:\tlearn: 0.0110052\ttotal: 3.35s\tremaining: 536ms\n",
      "862:\tlearn: 0.0109828\ttotal: 3.35s\tremaining: 532ms\n",
      "863:\tlearn: 0.0109557\ttotal: 3.35s\tremaining: 528ms\n",
      "864:\tlearn: 0.0109284\ttotal: 3.36s\tremaining: 524ms\n",
      "865:\tlearn: 0.0109184\ttotal: 3.36s\tremaining: 520ms\n",
      "866:\tlearn: 0.0108990\ttotal: 3.36s\tremaining: 516ms\n",
      "867:\tlearn: 0.0108883\ttotal: 3.37s\tremaining: 512ms\n",
      "868:\tlearn: 0.0108687\ttotal: 3.37s\tremaining: 508ms\n",
      "869:\tlearn: 0.0108508\ttotal: 3.38s\tremaining: 504ms\n",
      "870:\tlearn: 0.0108373\ttotal: 3.38s\tremaining: 500ms\n",
      "871:\tlearn: 0.0108157\ttotal: 3.38s\tremaining: 496ms\n",
      "872:\tlearn: 0.0108085\ttotal: 3.38s\tremaining: 493ms\n",
      "873:\tlearn: 0.0107927\ttotal: 3.39s\tremaining: 489ms\n"
     ]
    },
    {
     "name": "stdout",
     "output_type": "stream",
     "text": [
      "874:\tlearn: 0.0107635\ttotal: 3.39s\tremaining: 485ms\n",
      "875:\tlearn: 0.0107376\ttotal: 3.4s\tremaining: 481ms\n",
      "876:\tlearn: 0.0107138\ttotal: 3.4s\tremaining: 477ms\n",
      "877:\tlearn: 0.0106909\ttotal: 3.4s\tremaining: 473ms\n",
      "878:\tlearn: 0.0106720\ttotal: 3.41s\tremaining: 469ms\n",
      "879:\tlearn: 0.0106700\ttotal: 3.41s\tremaining: 465ms\n",
      "880:\tlearn: 0.0106579\ttotal: 3.41s\tremaining: 461ms\n",
      "881:\tlearn: 0.0106529\ttotal: 3.42s\tremaining: 457ms\n",
      "882:\tlearn: 0.0106314\ttotal: 3.42s\tremaining: 453ms\n",
      "883:\tlearn: 0.0105988\ttotal: 3.42s\tremaining: 450ms\n",
      "884:\tlearn: 0.0105825\ttotal: 3.43s\tremaining: 446ms\n",
      "885:\tlearn: 0.0105570\ttotal: 3.43s\tremaining: 442ms\n",
      "886:\tlearn: 0.0105126\ttotal: 3.44s\tremaining: 438ms\n",
      "887:\tlearn: 0.0104991\ttotal: 3.44s\tremaining: 434ms\n",
      "888:\tlearn: 0.0104834\ttotal: 3.44s\tremaining: 430ms\n",
      "889:\tlearn: 0.0104392\ttotal: 3.45s\tremaining: 426ms\n",
      "890:\tlearn: 0.0104253\ttotal: 3.45s\tremaining: 422ms\n",
      "891:\tlearn: 0.0103953\ttotal: 3.46s\tremaining: 418ms\n",
      "892:\tlearn: 0.0103700\ttotal: 3.46s\tremaining: 415ms\n",
      "893:\tlearn: 0.0103520\ttotal: 3.46s\tremaining: 411ms\n",
      "894:\tlearn: 0.0103382\ttotal: 3.47s\tremaining: 407ms\n",
      "895:\tlearn: 0.0103286\ttotal: 3.47s\tremaining: 403ms\n",
      "896:\tlearn: 0.0103194\ttotal: 3.48s\tremaining: 399ms\n",
      "897:\tlearn: 0.0103111\ttotal: 3.48s\tremaining: 395ms\n",
      "898:\tlearn: 0.0103057\ttotal: 3.48s\tremaining: 391ms\n",
      "899:\tlearn: 0.0102921\ttotal: 3.48s\tremaining: 387ms\n",
      "900:\tlearn: 0.0102870\ttotal: 3.49s\tremaining: 383ms\n",
      "901:\tlearn: 0.0102717\ttotal: 3.49s\tremaining: 380ms\n",
      "902:\tlearn: 0.0102588\ttotal: 3.5s\tremaining: 376ms\n",
      "903:\tlearn: 0.0102466\ttotal: 3.5s\tremaining: 372ms\n",
      "904:\tlearn: 0.0102349\ttotal: 3.5s\tremaining: 368ms\n",
      "905:\tlearn: 0.0102236\ttotal: 3.51s\tremaining: 364ms\n",
      "906:\tlearn: 0.0101890\ttotal: 3.51s\tremaining: 360ms\n",
      "907:\tlearn: 0.0101572\ttotal: 3.52s\tremaining: 356ms\n",
      "908:\tlearn: 0.0101488\ttotal: 3.52s\tremaining: 352ms\n",
      "909:\tlearn: 0.0101284\ttotal: 3.52s\tremaining: 348ms\n",
      "910:\tlearn: 0.0101019\ttotal: 3.53s\tremaining: 344ms\n",
      "911:\tlearn: 0.0100890\ttotal: 3.53s\tremaining: 341ms\n",
      "912:\tlearn: 0.0100634\ttotal: 3.53s\tremaining: 337ms\n",
      "913:\tlearn: 0.0100561\ttotal: 3.54s\tremaining: 333ms\n",
      "914:\tlearn: 0.0100334\ttotal: 3.54s\tremaining: 329ms\n",
      "915:\tlearn: 0.0099922\ttotal: 3.54s\tremaining: 325ms\n",
      "916:\tlearn: 0.0099734\ttotal: 3.55s\tremaining: 321ms\n",
      "917:\tlearn: 0.0099590\ttotal: 3.55s\tremaining: 317ms\n",
      "918:\tlearn: 0.0099430\ttotal: 3.56s\tremaining: 313ms\n",
      "919:\tlearn: 0.0099254\ttotal: 3.56s\tremaining: 310ms\n",
      "920:\tlearn: 0.0099158\ttotal: 3.56s\tremaining: 306ms\n",
      "921:\tlearn: 0.0099028\ttotal: 3.57s\tremaining: 302ms\n",
      "922:\tlearn: 0.0098799\ttotal: 3.57s\tremaining: 298ms\n",
      "923:\tlearn: 0.0098671\ttotal: 3.58s\tremaining: 294ms\n",
      "924:\tlearn: 0.0098484\ttotal: 3.58s\tremaining: 290ms\n",
      "925:\tlearn: 0.0098410\ttotal: 3.58s\tremaining: 286ms\n",
      "926:\tlearn: 0.0098266\ttotal: 3.59s\tremaining: 282ms\n",
      "927:\tlearn: 0.0098129\ttotal: 3.59s\tremaining: 279ms\n",
      "928:\tlearn: 0.0097885\ttotal: 3.59s\tremaining: 275ms\n",
      "929:\tlearn: 0.0097758\ttotal: 3.6s\tremaining: 271ms\n",
      "930:\tlearn: 0.0097631\ttotal: 3.6s\tremaining: 267ms\n",
      "931:\tlearn: 0.0097321\ttotal: 3.6s\tremaining: 263ms\n",
      "932:\tlearn: 0.0097160\ttotal: 3.61s\tremaining: 259ms\n",
      "933:\tlearn: 0.0096967\ttotal: 3.61s\tremaining: 255ms\n",
      "934:\tlearn: 0.0096793\ttotal: 3.62s\tremaining: 251ms\n",
      "935:\tlearn: 0.0096638\ttotal: 3.62s\tremaining: 247ms\n",
      "936:\tlearn: 0.0096492\ttotal: 3.62s\tremaining: 244ms\n",
      "937:\tlearn: 0.0096380\ttotal: 3.63s\tremaining: 240ms\n",
      "938:\tlearn: 0.0096152\ttotal: 3.63s\tremaining: 236ms\n",
      "939:\tlearn: 0.0095882\ttotal: 3.63s\tremaining: 232ms\n",
      "940:\tlearn: 0.0095847\ttotal: 3.64s\tremaining: 228ms\n",
      "941:\tlearn: 0.0095796\ttotal: 3.64s\tremaining: 224ms\n",
      "942:\tlearn: 0.0095705\ttotal: 3.65s\tremaining: 220ms\n",
      "943:\tlearn: 0.0095573\ttotal: 3.65s\tremaining: 217ms\n",
      "944:\tlearn: 0.0095392\ttotal: 3.65s\tremaining: 213ms\n",
      "945:\tlearn: 0.0095260\ttotal: 3.66s\tremaining: 209ms\n",
      "946:\tlearn: 0.0095135\ttotal: 3.66s\tremaining: 205ms\n",
      "947:\tlearn: 0.0095065\ttotal: 3.67s\tremaining: 201ms\n",
      "948:\tlearn: 0.0094936\ttotal: 3.67s\tremaining: 197ms\n",
      "949:\tlearn: 0.0094842\ttotal: 3.67s\tremaining: 193ms\n",
      "950:\tlearn: 0.0094633\ttotal: 3.67s\tremaining: 189ms\n",
      "951:\tlearn: 0.0094551\ttotal: 3.68s\tremaining: 185ms\n",
      "952:\tlearn: 0.0094453\ttotal: 3.68s\tremaining: 182ms\n",
      "953:\tlearn: 0.0094336\ttotal: 3.69s\tremaining: 178ms\n",
      "954:\tlearn: 0.0094271\ttotal: 3.69s\tremaining: 174ms\n",
      "955:\tlearn: 0.0094180\ttotal: 3.69s\tremaining: 170ms\n",
      "956:\tlearn: 0.0094082\ttotal: 3.7s\tremaining: 166ms\n",
      "957:\tlearn: 0.0093813\ttotal: 3.7s\tremaining: 162ms\n",
      "958:\tlearn: 0.0093664\ttotal: 3.71s\tremaining: 158ms\n",
      "959:\tlearn: 0.0093639\ttotal: 3.71s\tremaining: 155ms\n",
      "960:\tlearn: 0.0093442\ttotal: 3.71s\tremaining: 151ms\n",
      "961:\tlearn: 0.0093149\ttotal: 3.72s\tremaining: 147ms\n",
      "962:\tlearn: 0.0093104\ttotal: 3.72s\tremaining: 143ms\n",
      "963:\tlearn: 0.0092966\ttotal: 3.72s\tremaining: 139ms\n",
      "964:\tlearn: 0.0092845\ttotal: 3.73s\tremaining: 135ms\n",
      "965:\tlearn: 0.0092726\ttotal: 3.73s\tremaining: 131ms\n",
      "966:\tlearn: 0.0092544\ttotal: 3.73s\tremaining: 127ms\n",
      "967:\tlearn: 0.0092401\ttotal: 3.74s\tremaining: 124ms\n",
      "968:\tlearn: 0.0092273\ttotal: 3.74s\tremaining: 120ms\n",
      "969:\tlearn: 0.0092008\ttotal: 3.74s\tremaining: 116ms\n",
      "970:\tlearn: 0.0091916\ttotal: 3.75s\tremaining: 112ms\n",
      "971:\tlearn: 0.0091768\ttotal: 3.75s\tremaining: 108ms\n",
      "972:\tlearn: 0.0091700\ttotal: 3.76s\tremaining: 104ms\n",
      "973:\tlearn: 0.0091574\ttotal: 3.76s\tremaining: 100ms\n",
      "974:\tlearn: 0.0091408\ttotal: 3.76s\tremaining: 96.5ms\n",
      "975:\tlearn: 0.0091206\ttotal: 3.77s\tremaining: 92.6ms\n",
      "976:\tlearn: 0.0091069\ttotal: 3.77s\tremaining: 88.8ms\n",
      "977:\tlearn: 0.0090893\ttotal: 3.77s\tremaining: 84.9ms\n",
      "978:\tlearn: 0.0090837\ttotal: 3.78s\tremaining: 81ms\n",
      "979:\tlearn: 0.0090752\ttotal: 3.78s\tremaining: 77.2ms\n",
      "980:\tlearn: 0.0090566\ttotal: 3.78s\tremaining: 73.3ms\n",
      "981:\tlearn: 0.0090507\ttotal: 3.79s\tremaining: 69.4ms\n",
      "982:\tlearn: 0.0090464\ttotal: 3.79s\tremaining: 65.6ms\n",
      "983:\tlearn: 0.0090301\ttotal: 3.79s\tremaining: 61.7ms\n",
      "984:\tlearn: 0.0090089\ttotal: 3.8s\tremaining: 57.9ms\n",
      "985:\tlearn: 0.0090013\ttotal: 3.8s\tremaining: 54ms\n",
      "986:\tlearn: 0.0089879\ttotal: 3.81s\tremaining: 50.1ms\n",
      "987:\tlearn: 0.0089662\ttotal: 3.81s\tremaining: 46.3ms\n",
      "988:\tlearn: 0.0089558\ttotal: 3.81s\tremaining: 42.4ms\n",
      "989:\tlearn: 0.0089442\ttotal: 3.82s\tremaining: 38.6ms\n",
      "990:\tlearn: 0.0089127\ttotal: 3.82s\tremaining: 34.7ms\n",
      "991:\tlearn: 0.0088701\ttotal: 3.83s\tremaining: 30.8ms\n",
      "992:\tlearn: 0.0088644\ttotal: 3.83s\tremaining: 27ms\n",
      "993:\tlearn: 0.0088504\ttotal: 3.83s\tremaining: 23.1ms\n",
      "994:\tlearn: 0.0088338\ttotal: 3.83s\tremaining: 19.3ms\n",
      "995:\tlearn: 0.0088234\ttotal: 3.84s\tremaining: 15.4ms\n",
      "996:\tlearn: 0.0088148\ttotal: 3.84s\tremaining: 11.6ms\n",
      "997:\tlearn: 0.0087835\ttotal: 3.85s\tremaining: 7.71ms\n",
      "998:\tlearn: 0.0087695\ttotal: 3.85s\tremaining: 3.85ms\n",
      "999:\tlearn: 0.0087577\ttotal: 3.85s\tremaining: 0us\n"
     ]
    }
   ],
   "source": [
    "from catboost import CatBoostRegressor\n",
    "model=CatBoostRegressor(learning_rate=0.5)\n",
    "cb=model.fit(x_train, y_train)"
   ]
  },
  {
   "cell_type": "code",
   "execution_count": 225,
   "metadata": {},
   "outputs": [],
   "source": [
    "y_pred=cb.predict(x_test)"
   ]
  },
  {
   "cell_type": "code",
   "execution_count": 226,
   "metadata": {},
   "outputs": [],
   "source": [
    "r2_scorecat=r2_score(y_test,y_pred)"
   ]
  },
  {
   "cell_type": "code",
   "execution_count": 227,
   "metadata": {},
   "outputs": [
    {
     "name": "stdout",
     "output_type": "stream",
     "text": [
      "0.756254090689708\n"
     ]
    }
   ],
   "source": [
    "print(r2_scorecat)"
   ]
  },
  {
   "cell_type": "code",
   "execution_count": 228,
   "metadata": {},
   "outputs": [
    {
     "data": {
      "text/plain": [
       "{'learn': {'RMSE': 0.008757671538444256}}"
      ]
     },
     "execution_count": 228,
     "metadata": {},
     "output_type": "execute_result"
    }
   ],
   "source": [
    "cb.best_score_"
   ]
  },
  {
   "cell_type": "code",
   "execution_count": 229,
   "metadata": {},
   "outputs": [
    {
     "data": {
      "text/plain": [
       "array([ 7.73470971, 14.16783709, 16.73271958, 12.67407897,  7.32546596,\n",
       "        0.        ,  0.        ,  0.        ,  0.        ,  0.        ,\n",
       "        1.54338382,  4.50994991,  2.61669153,  6.76460883,  1.19412472,\n",
       "        0.96364386, 11.36941407,  5.89714764,  2.86856547,  0.66238777,\n",
       "        1.08321036,  1.89206071])"
      ]
     },
     "execution_count": 229,
     "metadata": {},
     "output_type": "execute_result"
    }
   ],
   "source": [
    "cb.feature_importances_"
   ]
  },
  {
   "cell_type": "markdown",
   "metadata": {},
   "source": [
    "# save the model"
   ]
  },
  {
   "cell_type": "code",
   "execution_count": 230,
   "metadata": {},
   "outputs": [],
   "source": [
    "import joblib\n"
   ]
  },
  {
   "cell_type": "code",
   "execution_count": 231,
   "metadata": {},
   "outputs": [
    {
     "data": {
      "text/plain": [
       "['hotel.pkl']"
      ]
     },
     "execution_count": 231,
     "metadata": {},
     "output_type": "execute_result"
    }
   ],
   "source": [
    "joblib.dump(cb,\"hotel.pkl\")"
   ]
  },
  {
   "cell_type": "code",
   "execution_count": null,
   "metadata": {},
   "outputs": [],
   "source": []
  },
  {
   "cell_type": "code",
   "execution_count": null,
   "metadata": {},
   "outputs": [],
   "source": []
  },
  {
   "cell_type": "code",
   "execution_count": null,
   "metadata": {},
   "outputs": [],
   "source": []
  },
  {
   "cell_type": "code",
   "execution_count": null,
   "metadata": {},
   "outputs": [],
   "source": []
  },
  {
   "cell_type": "code",
   "execution_count": null,
   "metadata": {},
   "outputs": [],
   "source": []
  },
  {
   "cell_type": "code",
   "execution_count": null,
   "metadata": {},
   "outputs": [],
   "source": []
  },
  {
   "cell_type": "code",
   "execution_count": null,
   "metadata": {},
   "outputs": [],
   "source": []
  },
  {
   "cell_type": "code",
   "execution_count": null,
   "metadata": {},
   "outputs": [],
   "source": []
  },
  {
   "cell_type": "code",
   "execution_count": null,
   "metadata": {},
   "outputs": [],
   "source": []
  },
  {
   "cell_type": "code",
   "execution_count": null,
   "metadata": {},
   "outputs": [],
   "source": []
  },
  {
   "cell_type": "code",
   "execution_count": null,
   "metadata": {},
   "outputs": [],
   "source": []
  },
  {
   "cell_type": "code",
   "execution_count": null,
   "metadata": {},
   "outputs": [],
   "source": []
  }
 ],
 "metadata": {
  "kernelspec": {
   "display_name": "Python 3",
   "language": "python",
   "name": "python3"
  },
  "language_info": {
   "codemirror_mode": {
    "name": "ipython",
    "version": 3
   },
   "file_extension": ".py",
   "mimetype": "text/x-python",
   "name": "python",
   "nbconvert_exporter": "python",
   "pygments_lexer": "ipython3",
   "version": "3.8.3"
  }
 },
 "nbformat": 4,
 "nbformat_minor": 4
}
